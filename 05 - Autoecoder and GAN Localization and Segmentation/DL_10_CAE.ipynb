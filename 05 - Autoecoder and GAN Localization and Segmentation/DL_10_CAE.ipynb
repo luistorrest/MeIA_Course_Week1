{
  "nbformat": 4,
  "nbformat_minor": 0,
  "metadata": {
    "colab": {
      "provenance": []
    },
    "kernelspec": {
      "name": "python3",
      "display_name": "Python 3"
    },
    "accelerator": "GPU"
  },
  "cells": [
    {
      "cell_type": "code",
      "metadata": {
        "id": "eA_cputB8AD-"
      },
      "source": [
        "import numpy as np\n",
        "import matplotlib.pyplot as plt\n",
        "from tensorflow.keras.datasets import mnist\n",
        "\n",
        "from tensorflow.keras.models import Model\n",
        "from tensorflow.keras.layers import Input, Conv2D, Conv2DTranspose, MaxPooling2D, UpSampling2D, Dense"
      ],
      "execution_count": null,
      "outputs": []
    },
    {
      "cell_type": "code",
      "metadata": {
        "id": "oBldS7iY8NX0",
        "colab": {
          "base_uri": "https://localhost:8080/"
        },
        "outputId": "083c9750-4c75-4f23-93d2-ddc73c20ae6d"
      },
      "source": [
        "# Load mnist dataset\n",
        "(x_train, y_train), (x_test, y_test) = mnist.load_data()\n",
        "\n",
        "x_train = x_train.astype('float32') / 255.\n",
        "x_test = x_test.astype('float32') / 255.\n",
        "\n",
        "x_train = x_train.reshape((x_train.shape[0], x_train.shape[1], x_train.shape[2], 1))\n",
        "x_test  = x_test.reshape((x_test.shape[0], x_test.shape[1], x_test.shape[2], 1))\n",
        "\n",
        "# Print info\n",
        "print(x_train.shape)\n",
        "print(y_train.shape)\n",
        "print(x_test.shape)\n",
        "print(y_test.shape)"
      ],
      "execution_count": null,
      "outputs": [
        {
          "output_type": "stream",
          "text": [
            "Downloading data from https://storage.googleapis.com/tensorflow/tf-keras-datasets/mnist.npz\n",
            "11493376/11490434 [==============================] - 0s 0us/step\n",
            "(60000, 28, 28, 1)\n",
            "(60000,)\n",
            "(10000, 28, 28, 1)\n",
            "(10000,)\n"
          ],
          "name": "stdout"
        }
      ]
    },
    {
      "cell_type": "code",
      "metadata": {
        "id": "MTUXB5xuz3Ei",
        "outputId": "2aa17634-0b0e-4a48-d40f-b71a2958a9e2",
        "colab": {
          "base_uri": "https://localhost:8080/"
        }
      },
      "source": [
        "print(x_train.min())\n",
        "print(x_train.max())"
      ],
      "execution_count": null,
      "outputs": [
        {
          "output_type": "stream",
          "text": [
            "0.0\n",
            "1.0\n"
          ],
          "name": "stdout"
        }
      ]
    },
    {
      "cell_type": "code",
      "metadata": {
        "id": "v35Edp4T8jHU",
        "colab": {
          "base_uri": "https://localhost:8080/"
        },
        "outputId": "d2881f90-9c20-4b9a-add6-2ed5405c91a8"
      },
      "source": [
        "# Define CAE model\n",
        "in_layer = Input(shape=(28, 28, 1), name='IN')\n",
        "\n",
        "h = Conv2D(256, (3, 3), activation='relu', padding='same')(in_layer)\n",
        "h = MaxPooling2D()(h)\n",
        "h = Conv2D(128, (3, 3), activation='relu', padding='same')(h)\n",
        "h = MaxPooling2D()(h)\n",
        "h = Conv2D(64, (3, 3), activation='relu', padding='same')(h)\n",
        "h = MaxPooling2D()(h)\n",
        "h = Conv2D(32, (3, 3), activation='relu', padding='same')(h)\n",
        "\n",
        "latent = MaxPooling2D(name='LATENT')(h)\n",
        "\n",
        "h = Conv2D(32, (3, 3), activation='relu', padding='same')(latent)\n",
        "h = UpSampling2D((4, 4))(h)\n",
        "h = Conv2D(64, (3, 3), activation='relu', padding='same')(h)\n",
        "h = UpSampling2D()(h)\n",
        "h = Conv2D(128, (3, 3), activation='relu', padding='same')(h)\n",
        "h = UpSampling2D()(h)\n",
        "h = Conv2D(256, (3, 3), activation='relu')(h)\n",
        "h = UpSampling2D()(h)\n",
        "\n",
        "out_layer = Conv2D(1, (3, 3), activation='sigmoid', padding='same', name='OUT')(h)\n",
        "\n",
        "CAE = Model(in_layer, out_layer)\n",
        "CAE.summary()\n",
        "\n",
        "CAE.compile(optimizer='adam', loss='binary_crossentropy', metrics=['accuracy'])"
      ],
      "execution_count": null,
      "outputs": [
        {
          "output_type": "stream",
          "text": [
            "Model: \"model_12\"\n",
            "_________________________________________________________________\n",
            "Layer (type)                 Output Shape              Param #   \n",
            "=================================================================\n",
            "IN (InputLayer)              [(None, 28, 28, 1)]       0         \n",
            "_________________________________________________________________\n",
            "conv2d_59 (Conv2D)           (None, 28, 28, 256)       2560      \n",
            "_________________________________________________________________\n",
            "max_pooling2d_3 (MaxPooling2 (None, 14, 14, 256)       0         \n",
            "_________________________________________________________________\n",
            "conv2d_60 (Conv2D)           (None, 14, 14, 128)       295040    \n",
            "_________________________________________________________________\n",
            "max_pooling2d_4 (MaxPooling2 (None, 7, 7, 128)         0         \n",
            "_________________________________________________________________\n",
            "conv2d_61 (Conv2D)           (None, 7, 7, 64)          73792     \n",
            "_________________________________________________________________\n",
            "max_pooling2d_5 (MaxPooling2 (None, 3, 3, 64)          0         \n",
            "_________________________________________________________________\n",
            "conv2d_62 (Conv2D)           (None, 3, 3, 32)          18464     \n",
            "_________________________________________________________________\n",
            "LATENT (MaxPooling2D)        (None, 1, 1, 32)          0         \n",
            "_________________________________________________________________\n",
            "conv2d_63 (Conv2D)           (None, 1, 1, 32)          9248      \n",
            "_________________________________________________________________\n",
            "up_sampling2d_4 (UpSampling2 (None, 4, 4, 32)          0         \n",
            "_________________________________________________________________\n",
            "conv2d_64 (Conv2D)           (None, 4, 4, 64)          18496     \n",
            "_________________________________________________________________\n",
            "up_sampling2d_5 (UpSampling2 (None, 8, 8, 64)          0         \n",
            "_________________________________________________________________\n",
            "conv2d_65 (Conv2D)           (None, 8, 8, 128)         73856     \n",
            "_________________________________________________________________\n",
            "up_sampling2d_6 (UpSampling2 (None, 16, 16, 128)       0         \n",
            "_________________________________________________________________\n",
            "conv2d_66 (Conv2D)           (None, 14, 14, 256)       295168    \n",
            "_________________________________________________________________\n",
            "up_sampling2d_7 (UpSampling2 (None, 28, 28, 256)       0         \n",
            "_________________________________________________________________\n",
            "OUT (Conv2D)                 (None, 28, 28, 1)         2305      \n",
            "=================================================================\n",
            "Total params: 788,929\n",
            "Trainable params: 788,929\n",
            "Non-trainable params: 0\n",
            "_________________________________________________________________\n"
          ],
          "name": "stdout"
        }
      ]
    },
    {
      "cell_type": "code",
      "metadata": {
        "colab": {
          "base_uri": "https://localhost:8080/"
        },
        "id": "cYsfJ-FcdhGg",
        "outputId": "bd50223a-55f3-4f84-cb9c-9a01b0d15dc6"
      },
      "source": [
        "# Another way to do it with Conv2DTranspose\n",
        "in_l2 = Input(shape=(28, 28, 1), name='IN')\n",
        "\n",
        "hh = Conv2D(256, (3, 3), strides=2, padding='same', activation='relu')(in_l2)\n",
        "hh = Conv2D(128, (3, 3), strides=2, padding='same', activation='relu')(hh)\n",
        "hh = Conv2D(64, (3, 3), strides=2, padding='same', activation='relu')(hh)\n",
        "hh = Conv2D(32, (3, 3), strides=2, padding='same', activation='relu')(hh)\n",
        "\n",
        "L = MaxPooling2D(name='LATENT')(hh)\n",
        "\n",
        "hh = Conv2DTranspose(32, (3, 3), strides=2, padding='same', activation='relu')(L)\n",
        "hh = Conv2DTranspose(32, (3, 3), strides=2, padding='same', activation='relu')(hh)\n",
        "hh = Conv2DTranspose(64, (3, 3), strides=2, padding='same', activation='relu')(hh)\n",
        "hh = Conv2DTranspose(64, (3, 3), strides=2, padding='same', activation='relu')(hh)\n",
        "hh = Conv2DTranspose(128, (3, 3), strides=2, activation='relu')(hh)\n",
        "hh = Conv2D(256, (6, 6), activation='relu')(hh)\n",
        "\n",
        "out_l2 = Conv2D(1, (3, 3), activation='sigmoid', padding='same', name='OUT')(hh)\n",
        "\n",
        "CAE2 = Model(in_l2, out_l2)\n",
        "CAE2.summary()"
      ],
      "execution_count": null,
      "outputs": [
        {
          "output_type": "stream",
          "text": [
            "Model: \"model_10\"\n",
            "_________________________________________________________________\n",
            "Layer (type)                 Output Shape              Param #   \n",
            "=================================================================\n",
            "IN (InputLayer)              [(None, 28, 28, 1)]       0         \n",
            "_________________________________________________________________\n",
            "conv2d_46 (Conv2D)           (None, 14, 14, 256)       2560      \n",
            "_________________________________________________________________\n",
            "conv2d_47 (Conv2D)           (None, 7, 7, 128)         295040    \n",
            "_________________________________________________________________\n",
            "conv2d_48 (Conv2D)           (None, 4, 4, 64)          73792     \n",
            "_________________________________________________________________\n",
            "conv2d_49 (Conv2D)           (None, 2, 2, 32)          18464     \n",
            "_________________________________________________________________\n",
            "LATENT (MaxPooling2D)        (None, 1, 1, 32)          0         \n",
            "_________________________________________________________________\n",
            "conv2d_transpose_49 (Conv2DT (None, 2, 2, 32)          9248      \n",
            "_________________________________________________________________\n",
            "conv2d_transpose_50 (Conv2DT (None, 4, 4, 32)          9248      \n",
            "_________________________________________________________________\n",
            "conv2d_transpose_51 (Conv2DT (None, 8, 8, 64)          18496     \n",
            "_________________________________________________________________\n",
            "conv2d_transpose_52 (Conv2DT (None, 16, 16, 64)        36928     \n",
            "_________________________________________________________________\n",
            "conv2d_transpose_53 (Conv2DT (None, 33, 33, 128)       73856     \n",
            "_________________________________________________________________\n",
            "conv2d_50 (Conv2D)           (None, 28, 28, 256)       1179904   \n",
            "_________________________________________________________________\n",
            "OUT (Conv2D)                 (None, 28, 28, 1)         2305      \n",
            "=================================================================\n",
            "Total params: 1,719,841\n",
            "Trainable params: 1,719,841\n",
            "Non-trainable params: 0\n",
            "_________________________________________________________________\n"
          ],
          "name": "stdout"
        }
      ]
    },
    {
      "cell_type": "code",
      "metadata": {
        "id": "rDcU9NsY-__7",
        "colab": {
          "base_uri": "https://localhost:8080/",
          "height": 1000
        },
        "outputId": "eb8365e8-56bd-4029-a70b-e55707b2c8ff"
      },
      "source": [
        "# Train model\n",
        "history = CAE.fit(x_train, x_train, epochs=100, batch_size=128, validation_split=0.2)"
      ],
      "execution_count": null,
      "outputs": [
        {
          "output_type": "stream",
          "text": [
            "Epoch 1/100\n",
            "375/375 [==============================] - 21s 55ms/step - loss: 0.2054 - accuracy: 0.7974 - val_loss: 0.1506 - val_accuracy: 0.8036\n",
            "Epoch 2/100\n",
            "375/375 [==============================] - 20s 53ms/step - loss: 0.1368 - accuracy: 0.8055 - val_loss: 0.1270 - val_accuracy: 0.8081\n",
            "Epoch 3/100\n",
            "375/375 [==============================] - 20s 53ms/step - loss: 0.1213 - accuracy: 0.8085 - val_loss: 0.1177 - val_accuracy: 0.8097\n",
            "Epoch 4/100\n",
            "375/375 [==============================] - 20s 53ms/step - loss: 0.1138 - accuracy: 0.8099 - val_loss: 0.1122 - val_accuracy: 0.8108\n",
            "Epoch 5/100\n",
            "375/375 [==============================] - 20s 53ms/step - loss: 0.1091 - accuracy: 0.8107 - val_loss: 0.1087 - val_accuracy: 0.8119\n",
            "Epoch 6/100\n",
            "375/375 [==============================] - 20s 53ms/step - loss: 0.1055 - accuracy: 0.8113 - val_loss: 0.1066 - val_accuracy: 0.8123\n",
            "Epoch 7/100\n",
            "375/375 [==============================] - 20s 53ms/step - loss: 0.1030 - accuracy: 0.8117 - val_loss: 0.1017 - val_accuracy: 0.8127\n",
            "Epoch 8/100\n",
            "375/375 [==============================] - 20s 53ms/step - loss: 0.1009 - accuracy: 0.8120 - val_loss: 0.1015 - val_accuracy: 0.8126\n",
            "Epoch 9/100\n",
            "375/375 [==============================] - 20s 53ms/step - loss: 0.0997 - accuracy: 0.8122 - val_loss: 0.0993 - val_accuracy: 0.8129\n",
            "Epoch 10/100\n",
            "375/375 [==============================] - 20s 53ms/step - loss: 0.0981 - accuracy: 0.8124 - val_loss: 0.0985 - val_accuracy: 0.8130\n",
            "Epoch 11/100\n",
            "375/375 [==============================] - 20s 53ms/step - loss: 0.0971 - accuracy: 0.8125 - val_loss: 0.0977 - val_accuracy: 0.8137\n",
            "Epoch 12/100\n",
            "375/375 [==============================] - 20s 54ms/step - loss: 0.0960 - accuracy: 0.8127 - val_loss: 0.0972 - val_accuracy: 0.8140\n",
            "Epoch 13/100\n",
            "375/375 [==============================] - 20s 53ms/step - loss: 0.0954 - accuracy: 0.8128 - val_loss: 0.0960 - val_accuracy: 0.8140\n",
            "Epoch 14/100\n",
            "375/375 [==============================] - 20s 53ms/step - loss: 0.0946 - accuracy: 0.8129 - val_loss: 0.0952 - val_accuracy: 0.8135\n",
            "Epoch 15/100\n",
            "375/375 [==============================] - 20s 53ms/step - loss: 0.0943 - accuracy: 0.8129 - val_loss: 0.0955 - val_accuracy: 0.8140\n",
            "Epoch 16/100\n",
            "375/375 [==============================] - 20s 53ms/step - loss: 0.0938 - accuracy: 0.8130 - val_loss: 0.0947 - val_accuracy: 0.8137\n",
            "Epoch 17/100\n",
            "375/375 [==============================] - 20s 53ms/step - loss: 0.0931 - accuracy: 0.8131 - val_loss: 0.0964 - val_accuracy: 0.8141\n",
            "Epoch 18/100\n",
            "375/375 [==============================] - 20s 53ms/step - loss: 0.0929 - accuracy: 0.8131 - val_loss: 0.0948 - val_accuracy: 0.8137\n",
            "Epoch 19/100\n",
            "375/375 [==============================] - 20s 53ms/step - loss: 0.0923 - accuracy: 0.8132 - val_loss: 0.0937 - val_accuracy: 0.8137\n",
            "Epoch 20/100\n",
            "375/375 [==============================] - 20s 53ms/step - loss: 0.0921 - accuracy: 0.8132 - val_loss: 0.0945 - val_accuracy: 0.8134\n",
            "Epoch 21/100\n",
            "375/375 [==============================] - 20s 53ms/step - loss: 0.0916 - accuracy: 0.8133 - val_loss: 0.0934 - val_accuracy: 0.8143\n",
            "Epoch 22/100\n",
            "375/375 [==============================] - 20s 53ms/step - loss: 0.0915 - accuracy: 0.8133 - val_loss: 0.0944 - val_accuracy: 0.8134\n",
            "Epoch 23/100\n",
            "375/375 [==============================] - 20s 53ms/step - loss: 0.0910 - accuracy: 0.8134 - val_loss: 0.0922 - val_accuracy: 0.8142\n",
            "Epoch 24/100\n",
            "375/375 [==============================] - 20s 53ms/step - loss: 0.0909 - accuracy: 0.8134 - val_loss: 0.0925 - val_accuracy: 0.8141\n",
            "Epoch 25/100\n",
            "375/375 [==============================] - 20s 53ms/step - loss: 0.0905 - accuracy: 0.8134 - val_loss: 0.0919 - val_accuracy: 0.8142\n",
            "Epoch 26/100\n",
            "375/375 [==============================] - 20s 53ms/step - loss: 0.0904 - accuracy: 0.8134 - val_loss: 0.0925 - val_accuracy: 0.8141\n",
            "Epoch 27/100\n",
            "375/375 [==============================] - 20s 53ms/step - loss: 0.0901 - accuracy: 0.8135 - val_loss: 0.0919 - val_accuracy: 0.8142\n",
            "Epoch 28/100\n",
            "375/375 [==============================] - 20s 53ms/step - loss: 0.0900 - accuracy: 0.8135 - val_loss: 0.0935 - val_accuracy: 0.8141\n",
            "Epoch 29/100\n",
            "375/375 [==============================] - 20s 53ms/step - loss: 0.0897 - accuracy: 0.8135 - val_loss: 0.0921 - val_accuracy: 0.8143\n",
            "Epoch 30/100\n",
            "375/375 [==============================] - 20s 53ms/step - loss: 0.0894 - accuracy: 0.8136 - val_loss: 0.0919 - val_accuracy: 0.8143\n",
            "Epoch 31/100\n",
            "375/375 [==============================] - 20s 53ms/step - loss: 0.0892 - accuracy: 0.8136 - val_loss: 0.0918 - val_accuracy: 0.8140\n",
            "Epoch 32/100\n",
            "375/375 [==============================] - 20s 53ms/step - loss: 0.0891 - accuracy: 0.8136 - val_loss: 0.0912 - val_accuracy: 0.8145\n",
            "Epoch 33/100\n",
            "375/375 [==============================] - 20s 53ms/step - loss: 0.0889 - accuracy: 0.8136 - val_loss: 0.0916 - val_accuracy: 0.8144\n",
            "Epoch 34/100\n",
            "375/375 [==============================] - 20s 53ms/step - loss: 0.0887 - accuracy: 0.8137 - val_loss: 0.0919 - val_accuracy: 0.8143\n",
            "Epoch 35/100\n",
            "375/375 [==============================] - 20s 53ms/step - loss: 0.0887 - accuracy: 0.8137 - val_loss: 0.0914 - val_accuracy: 0.8140\n",
            "Epoch 36/100\n",
            "375/375 [==============================] - 20s 53ms/step - loss: 0.0885 - accuracy: 0.8137 - val_loss: 0.0912 - val_accuracy: 0.8140\n",
            "Epoch 37/100\n",
            "375/375 [==============================] - 20s 53ms/step - loss: 0.0883 - accuracy: 0.8137 - val_loss: 0.0910 - val_accuracy: 0.8144\n",
            "Epoch 38/100\n",
            "375/375 [==============================] - 20s 53ms/step - loss: 0.0882 - accuracy: 0.8137 - val_loss: 0.0922 - val_accuracy: 0.8140\n",
            "Epoch 39/100\n",
            "375/375 [==============================] - 20s 54ms/step - loss: 0.0881 - accuracy: 0.8137 - val_loss: 0.0909 - val_accuracy: 0.8143\n",
            "Epoch 40/100\n",
            "375/375 [==============================] - 20s 53ms/step - loss: 0.0879 - accuracy: 0.8138 - val_loss: 0.0934 - val_accuracy: 0.8137\n",
            "Epoch 41/100\n",
            "375/375 [==============================] - 20s 53ms/step - loss: 0.0879 - accuracy: 0.8138 - val_loss: 0.0907 - val_accuracy: 0.8142\n",
            "Epoch 42/100\n",
            "375/375 [==============================] - 20s 53ms/step - loss: 0.0876 - accuracy: 0.8138 - val_loss: 0.0906 - val_accuracy: 0.8143\n",
            "Epoch 43/100\n",
            "375/375 [==============================] - 20s 54ms/step - loss: 0.0875 - accuracy: 0.8138 - val_loss: 0.0905 - val_accuracy: 0.8143\n",
            "Epoch 44/100\n",
            "375/375 [==============================] - 20s 53ms/step - loss: 0.0875 - accuracy: 0.8138 - val_loss: 0.0920 - val_accuracy: 0.8139\n",
            "Epoch 45/100\n",
            "375/375 [==============================] - 20s 53ms/step - loss: 0.0873 - accuracy: 0.8138 - val_loss: 0.0902 - val_accuracy: 0.8142\n",
            "Epoch 46/100\n",
            "375/375 [==============================] - 20s 53ms/step - loss: 0.0874 - accuracy: 0.8138 - val_loss: 0.0906 - val_accuracy: 0.8144\n",
            "Epoch 47/100\n",
            "375/375 [==============================] - 20s 53ms/step - loss: 0.0870 - accuracy: 0.8139 - val_loss: 0.0911 - val_accuracy: 0.8143\n",
            "Epoch 48/100\n",
            "375/375 [==============================] - 20s 53ms/step - loss: 0.0872 - accuracy: 0.8138 - val_loss: 0.0900 - val_accuracy: 0.8146\n",
            "Epoch 49/100\n",
            "375/375 [==============================] - 20s 53ms/step - loss: 0.0869 - accuracy: 0.8139 - val_loss: 0.0900 - val_accuracy: 0.8141\n",
            "Epoch 50/100\n",
            "375/375 [==============================] - 20s 53ms/step - loss: 0.0868 - accuracy: 0.8139 - val_loss: 0.0913 - val_accuracy: 0.8139\n",
            "Epoch 51/100\n",
            "375/375 [==============================] - 20s 54ms/step - loss: 0.0869 - accuracy: 0.8139 - val_loss: 0.0900 - val_accuracy: 0.8142\n",
            "Epoch 52/100\n",
            "375/375 [==============================] - 20s 53ms/step - loss: 0.0866 - accuracy: 0.8139 - val_loss: 0.0903 - val_accuracy: 0.8146\n",
            "Epoch 53/100\n",
            "375/375 [==============================] - 20s 54ms/step - loss: 0.0865 - accuracy: 0.8139 - val_loss: 0.0915 - val_accuracy: 0.8139\n",
            "Epoch 54/100\n",
            "375/375 [==============================] - 20s 53ms/step - loss: 0.0866 - accuracy: 0.8139 - val_loss: 0.0896 - val_accuracy: 0.8144\n",
            "Epoch 55/100\n",
            "375/375 [==============================] - 20s 54ms/step - loss: 0.0863 - accuracy: 0.8139 - val_loss: 0.0897 - val_accuracy: 0.8144\n",
            "Epoch 56/100\n",
            "375/375 [==============================] - 20s 54ms/step - loss: 0.0862 - accuracy: 0.8139 - val_loss: 0.0900 - val_accuracy: 0.8143\n",
            "Epoch 57/100\n",
            "375/375 [==============================] - 20s 54ms/step - loss: 0.0862 - accuracy: 0.8140 - val_loss: 0.0896 - val_accuracy: 0.8143\n",
            "Epoch 58/100\n",
            "375/375 [==============================] - 20s 53ms/step - loss: 0.0862 - accuracy: 0.8140 - val_loss: 0.0910 - val_accuracy: 0.8144\n",
            "Epoch 59/100\n",
            "375/375 [==============================] - 20s 53ms/step - loss: 0.0861 - accuracy: 0.8140 - val_loss: 0.0897 - val_accuracy: 0.8143\n",
            "Epoch 60/100\n",
            "375/375 [==============================] - 20s 53ms/step - loss: 0.0862 - accuracy: 0.8140 - val_loss: 0.0904 - val_accuracy: 0.8140\n",
            "Epoch 61/100\n",
            "375/375 [==============================] - 20s 53ms/step - loss: 0.0860 - accuracy: 0.8140 - val_loss: 0.0894 - val_accuracy: 0.8143\n",
            "Epoch 62/100\n",
            "375/375 [==============================] - 20s 53ms/step - loss: 0.0859 - accuracy: 0.8140 - val_loss: 0.0898 - val_accuracy: 0.8141\n",
            "Epoch 63/100\n",
            "375/375 [==============================] - 20s 53ms/step - loss: 0.0858 - accuracy: 0.8140 - val_loss: 0.0898 - val_accuracy: 0.8141\n",
            "Epoch 64/100\n",
            "375/375 [==============================] - 20s 53ms/step - loss: 0.0858 - accuracy: 0.8140 - val_loss: 0.0904 - val_accuracy: 0.8142\n",
            "Epoch 65/100\n",
            "375/375 [==============================] - 20s 53ms/step - loss: 0.0856 - accuracy: 0.8140 - val_loss: 0.0899 - val_accuracy: 0.8144\n",
            "Epoch 66/100\n",
            "375/375 [==============================] - 20s 54ms/step - loss: 0.0856 - accuracy: 0.8140 - val_loss: 0.0899 - val_accuracy: 0.8145\n",
            "Epoch 67/100\n",
            "375/375 [==============================] - 20s 54ms/step - loss: 0.0856 - accuracy: 0.8140 - val_loss: 0.0907 - val_accuracy: 0.8143\n",
            "Epoch 68/100\n",
            "375/375 [==============================] - 20s 54ms/step - loss: 0.0855 - accuracy: 0.8140 - val_loss: 0.0901 - val_accuracy: 0.8146\n",
            "Epoch 69/100\n",
            "375/375 [==============================] - 20s 54ms/step - loss: 0.0855 - accuracy: 0.8140 - val_loss: 0.0902 - val_accuracy: 0.8142\n",
            "Epoch 70/100\n",
            "375/375 [==============================] - 20s 54ms/step - loss: 0.0855 - accuracy: 0.8140 - val_loss: 0.0897 - val_accuracy: 0.8142\n",
            "Epoch 71/100\n",
            "375/375 [==============================] - 20s 53ms/step - loss: 0.0853 - accuracy: 0.8141 - val_loss: 0.0894 - val_accuracy: 0.8146\n",
            "Epoch 72/100\n",
            "375/375 [==============================] - 20s 53ms/step - loss: 0.0852 - accuracy: 0.8141 - val_loss: 0.0892 - val_accuracy: 0.8144\n",
            "Epoch 73/100\n",
            "375/375 [==============================] - 20s 53ms/step - loss: 0.0852 - accuracy: 0.8141 - val_loss: 0.0902 - val_accuracy: 0.8144\n",
            "Epoch 74/100\n",
            "375/375 [==============================] - 20s 53ms/step - loss: 0.0852 - accuracy: 0.8141 - val_loss: 0.0892 - val_accuracy: 0.8143\n",
            "Epoch 75/100\n",
            "375/375 [==============================] - 20s 53ms/step - loss: 0.0851 - accuracy: 0.8141 - val_loss: 0.0890 - val_accuracy: 0.8145\n",
            "Epoch 76/100\n",
            "375/375 [==============================] - 20s 53ms/step - loss: 0.0850 - accuracy: 0.8141 - val_loss: 0.0896 - val_accuracy: 0.8145\n",
            "Epoch 77/100\n",
            "375/375 [==============================] - 20s 53ms/step - loss: 0.0851 - accuracy: 0.8141 - val_loss: 0.0900 - val_accuracy: 0.8141\n",
            "Epoch 78/100\n",
            "375/375 [==============================] - 20s 53ms/step - loss: 0.0849 - accuracy: 0.8141 - val_loss: 0.0892 - val_accuracy: 0.8146\n",
            "Epoch 79/100\n",
            "375/375 [==============================] - 20s 53ms/step - loss: 0.0849 - accuracy: 0.8141 - val_loss: 0.0896 - val_accuracy: 0.8144\n",
            "Epoch 80/100\n",
            "375/375 [==============================] - 20s 53ms/step - loss: 0.0848 - accuracy: 0.8141 - val_loss: 0.0891 - val_accuracy: 0.8144\n",
            "Epoch 81/100\n",
            "375/375 [==============================] - 20s 53ms/step - loss: 0.0848 - accuracy: 0.8141 - val_loss: 0.0897 - val_accuracy: 0.8143\n",
            "Epoch 82/100\n",
            "375/375 [==============================] - 20s 53ms/step - loss: 0.0847 - accuracy: 0.8141 - val_loss: 0.0895 - val_accuracy: 0.8145\n",
            "Epoch 83/100\n",
            "375/375 [==============================] - 20s 53ms/step - loss: 0.0847 - accuracy: 0.8141 - val_loss: 0.0897 - val_accuracy: 0.8141\n",
            "Epoch 84/100\n",
            "375/375 [==============================] - 20s 53ms/step - loss: 0.0847 - accuracy: 0.8141 - val_loss: 0.0893 - val_accuracy: 0.8144\n",
            "Epoch 85/100\n",
            "375/375 [==============================] - 20s 53ms/step - loss: 0.0846 - accuracy: 0.8141 - val_loss: 0.0904 - val_accuracy: 0.8144\n",
            "Epoch 86/100\n",
            "375/375 [==============================] - 20s 53ms/step - loss: 0.0846 - accuracy: 0.8141 - val_loss: 0.0899 - val_accuracy: 0.8143\n",
            "Epoch 87/100\n",
            "375/375 [==============================] - 20s 54ms/step - loss: 0.0846 - accuracy: 0.8141 - val_loss: 0.0899 - val_accuracy: 0.8146\n",
            "Epoch 88/100\n",
            "375/375 [==============================] - 20s 53ms/step - loss: 0.0845 - accuracy: 0.8141 - val_loss: 0.0894 - val_accuracy: 0.8144\n",
            "Epoch 89/100\n",
            "375/375 [==============================] - 20s 53ms/step - loss: 0.0844 - accuracy: 0.8142 - val_loss: 0.0893 - val_accuracy: 0.8145\n",
            "Epoch 90/100\n",
            "375/375 [==============================] - 20s 53ms/step - loss: 0.0844 - accuracy: 0.8142 - val_loss: 0.0897 - val_accuracy: 0.8142\n",
            "Epoch 91/100\n",
            "375/375 [==============================] - 20s 53ms/step - loss: 0.0844 - accuracy: 0.8142 - val_loss: 0.0904 - val_accuracy: 0.8142\n",
            "Epoch 92/100\n",
            "375/375 [==============================] - 20s 53ms/step - loss: 0.0844 - accuracy: 0.8142 - val_loss: 0.0897 - val_accuracy: 0.8143\n",
            "Epoch 93/100\n",
            "375/375 [==============================] - 20s 53ms/step - loss: 0.0843 - accuracy: 0.8142 - val_loss: 0.0893 - val_accuracy: 0.8145\n",
            "Epoch 94/100\n",
            "375/375 [==============================] - 20s 53ms/step - loss: 0.0842 - accuracy: 0.8142 - val_loss: 0.0894 - val_accuracy: 0.8144\n",
            "Epoch 95/100\n",
            "375/375 [==============================] - 20s 54ms/step - loss: 0.0842 - accuracy: 0.8142 - val_loss: 0.0901 - val_accuracy: 0.8141\n",
            "Epoch 96/100\n",
            "375/375 [==============================] - 20s 53ms/step - loss: 0.0842 - accuracy: 0.8142 - val_loss: 0.0893 - val_accuracy: 0.8146\n",
            "Epoch 97/100\n",
            "375/375 [==============================] - 20s 53ms/step - loss: 0.0842 - accuracy: 0.8142 - val_loss: 0.0895 - val_accuracy: 0.8146\n",
            "Epoch 98/100\n",
            "375/375 [==============================] - 20s 54ms/step - loss: 0.0841 - accuracy: 0.8142 - val_loss: 0.0891 - val_accuracy: 0.8144\n",
            "Epoch 99/100\n",
            "375/375 [==============================] - 20s 53ms/step - loss: 0.0843 - accuracy: 0.8142 - val_loss: 0.0893 - val_accuracy: 0.8146\n",
            "Epoch 100/100\n",
            "375/375 [==============================] - 20s 53ms/step - loss: 0.0840 - accuracy: 0.8142 - val_loss: 0.0898 - val_accuracy: 0.8140\n"
          ],
          "name": "stdout"
        }
      ]
    },
    {
      "cell_type": "code",
      "metadata": {
        "id": "WyQ3oR-YB3M8",
        "colab": {
          "base_uri": "https://localhost:8080/",
          "height": 295
        },
        "outputId": "cc9e8d16-fe92-421d-bb03-7a46e08ed430"
      },
      "source": [
        "# Plot loss\n",
        "plt.figure(figsize=(18, 4))\n",
        "\n",
        "plt.subplot(1, 2, 1)\n",
        "plt.title('Loss')\n",
        "plt.plot(CAE.history.history['loss'], label='Training', linewidth=2)\n",
        "plt.plot(CAE.history.history['val_loss'], label='Validation', linewidth=2)\n",
        "plt.legend()\n",
        "plt.xlabel('Epoch')\n",
        "plt.ylabel('Loss')\n",
        "plt.grid(True)\n",
        "\n",
        "plt.subplot(1, 2, 2)\n",
        "plt.title('Accuracy')\n",
        "plt.plot(CAE.history.history['accuracy'], label='Training', linewidth=2)\n",
        "plt.plot(CAE.history.history['val_accuracy'], label='Validation', linewidth=2)\n",
        "plt.legend()\n",
        "plt.xlabel('Epoch')\n",
        "plt.ylabel('Accuracy')\n",
        "plt.grid(True)\n",
        "\n",
        "plt.show()"
      ],
      "execution_count": null,
      "outputs": [
        {
          "output_type": "display_data",
          "data": {
            "image/png": "[encoded data removed]",
            "text/plain": [
              "<Figure size 1296x288 with 2 Axes>"
            ]
          },
          "metadata": {
            "tags": [],
            "needs_background": "light"
          }
        }
      ]
    },
    {
      "cell_type": "code",
      "metadata": {
        "id": "9M9CyvMtCPnT",
        "colab": {
          "base_uri": "https://localhost:8080/",
          "height": 52
        },
        "outputId": "786adb67-35f3-4aac-f84a-a8217a1bfd07"
      },
      "source": [
        "# Predict reconstruction error on test data\n",
        "test_loss = CAE.evaluate(x_test, x_test)\n",
        "print(f\"Test loss {test_loss[0]:.4f} -- Test accuracy {test_loss[1]:.4f}\")\n",
        "\n",
        "x_test_hat = CAE.predict(x_test)"
      ],
      "execution_count": null,
      "outputs": [
        {
          "output_type": "stream",
          "text": [
            "313/313 [==============================] - 2s 7ms/step - loss: 0.0885 - accuracy: 0.8124\n",
            "Test loss 0.0885 -- Test accuracy 0.8124\n"
          ],
          "name": "stdout"
        }
      ]
    },
    {
      "cell_type": "code",
      "metadata": {
        "id": "qA-t3_-TE_Xs",
        "colab": {
          "base_uri": "https://localhost:8080/",
          "height": 248
        },
        "outputId": "253d76bd-6d4d-4350-9e9f-8cb0d70613db"
      },
      "source": [
        "# Show a few reconstruction examples\n",
        "plt.figure(figsize=(20, 4))\n",
        "for i in range(10):\n",
        "  ax = plt.subplot(2, 10, i + 1)\n",
        "  plt.imshow(x_test[i].reshape(28, 28), cmap='gray')\n",
        "  ax.get_xaxis().set_visible(False)\n",
        "  ax.get_yaxis().set_visible(False)\n",
        "\n",
        "  ax = plt.subplot(2, 10, 10 + i + 1)\n",
        "  plt.imshow(x_test_hat[i].reshape(28, 28), cmap='gray')\n",
        "  ax.get_xaxis().set_visible(False)\n",
        "  ax.get_yaxis().set_visible(False)\n",
        "plt.show()"
      ],
      "execution_count": null,
      "outputs": [
        {
          "output_type": "display_data",
          "data": {
            "image/png": "[encoded data removed]",
            "text/plain": [
              "<Figure size 1440x288 with 20 Axes>"
            ]
          },
          "metadata": {
            "tags": [],
            "needs_background": "light"
          }
        }
      ]
    },
    {
      "cell_type": "code",
      "metadata": {
        "id": "Zvjr4-z7GBv-",
        "colab": {
          "base_uri": "https://localhost:8080/",
          "height": 469
        },
        "outputId": "a58f1643-e735-4d53-c724-87f3020532f6"
      },
      "source": [
        "# Create a submodel using only the encoder part of previous model (output must be latent layer)\n",
        "encoder = Model(inputs=in_layer, outputs=latent)\n",
        "encoder.summary()"
      ],
      "execution_count": null,
      "outputs": [
        {
          "output_type": "stream",
          "text": [
            "Model: \"model_1\"\n",
            "_________________________________________________________________\n",
            "Layer (type)                 Output Shape              Param #   \n",
            "=================================================================\n",
            "IN (InputLayer)              [(None, 28, 28, 1)]       0         \n",
            "_________________________________________________________________\n",
            "conv2d (Conv2D)              (None, 28, 28, 256)       2560      \n",
            "_________________________________________________________________\n",
            "max_pooling2d (MaxPooling2D) (None, 14, 14, 256)       0         \n",
            "_________________________________________________________________\n",
            "conv2d_1 (Conv2D)            (None, 14, 14, 128)       295040    \n",
            "_________________________________________________________________\n",
            "max_pooling2d_1 (MaxPooling2 (None, 7, 7, 128)         0         \n",
            "_________________________________________________________________\n",
            "conv2d_2 (Conv2D)            (None, 7, 7, 64)          73792     \n",
            "_________________________________________________________________\n",
            "max_pooling2d_2 (MaxPooling2 (None, 3, 3, 64)          0         \n",
            "_________________________________________________________________\n",
            "conv2d_3 (Conv2D)            (None, 3, 3, 32)          18464     \n",
            "_________________________________________________________________\n",
            "LATENT (MaxPooling2D)        (None, 1, 1, 32)          0         \n",
            "=================================================================\n",
            "Total params: 389,856\n",
            "Trainable params: 389,856\n",
            "Non-trainable params: 0\n",
            "_________________________________________________________________\n"
          ],
          "name": "stdout"
        }
      ]
    },
    {
      "cell_type": "code",
      "metadata": {
        "id": "V1Da-WpRGxAE",
        "colab": {
          "base_uri": "https://localhost:8080/",
          "height": 34
        },
        "outputId": "2c785b99-b4f2-470a-a706-b6b5502f5e73"
      },
      "source": [
        "# Compute latent space\n",
        "test_latent = encoder.predict(x_test).reshape((len(x_test), -1))\n",
        "print(test_latent.shape)"
      ],
      "execution_count": null,
      "outputs": [
        {
          "output_type": "stream",
          "text": [
            "(10000, 32)\n"
          ],
          "name": "stdout"
        }
      ]
    },
    {
      "cell_type": "code",
      "metadata": {
        "id": "RAXsKiX2G6YV",
        "colab": {
          "base_uri": "https://localhost:8080/",
          "height": 225
        },
        "outputId": "8bf7a4a9-2f51-49cb-ab34-535379eb8243"
      },
      "source": [
        "# Plot distribution of latent space\n",
        "plt.figure(figsize=(12, 3))\n",
        "plt.boxplot(test_latent)\n",
        "plt.xlabel('Latent space variables')\n",
        "plt.ylabel('Values distribution')\n",
        "plt.grid()\n",
        "plt.show()"
      ],
      "execution_count": null,
      "outputs": [
        {
          "output_type": "display_data",
          "data": {
            "image/png": "[encoded data removed]",
            "text/plain": [
              "<Figure size 864x216 with 1 Axes>"
            ]
          },
          "metadata": {
            "tags": [],
            "needs_background": "light"
          }
        }
      ]
    },
    {
      "cell_type": "code",
      "metadata": {
        "id": "X_S5wsh5HPNi",
        "colab": {
          "base_uri": "https://localhost:8080/",
          "height": 503
        },
        "outputId": "b3e250cf-e44f-4f04-c3c7-4418dcf67a44"
      },
      "source": [
        "# Create a submodel using only the decoder part of the model\n",
        "latent_input = Input(shape=(1, 1, 32))\n",
        "\n",
        "deco = CAE.layers[-9](latent_input)\n",
        "deco = CAE.layers[-8](deco)\n",
        "deco = CAE.layers[-7](deco)\n",
        "deco = CAE.layers[-6](deco)\n",
        "deco = CAE.layers[-5](deco)\n",
        "deco = CAE.layers[-4](deco)\n",
        "deco = CAE.layers[-3](deco)\n",
        "deco = CAE.layers[-2](deco)\n",
        "deco = CAE.layers[-1](deco)\n",
        "\n",
        "# create the decoder model\n",
        "decoder_model = Model(inputs=latent_input, outputs=deco)\n",
        "decoder_model.summary()"
      ],
      "execution_count": null,
      "outputs": [
        {
          "output_type": "stream",
          "text": [
            "Model: \"model_2\"\n",
            "_________________________________________________________________\n",
            "Layer (type)                 Output Shape              Param #   \n",
            "=================================================================\n",
            "input_1 (InputLayer)         [(None, 1, 1, 32)]        0         \n",
            "_________________________________________________________________\n",
            "conv2d_4 (Conv2D)            (None, 1, 1, 32)          9248      \n",
            "_________________________________________________________________\n",
            "up_sampling2d (UpSampling2D) (None, 4, 4, 32)          0         \n",
            "_________________________________________________________________\n",
            "conv2d_5 (Conv2D)            (None, 4, 4, 64)          18496     \n",
            "_________________________________________________________________\n",
            "up_sampling2d_1 (UpSampling2 (None, 8, 8, 64)          0         \n",
            "_________________________________________________________________\n",
            "conv2d_6 (Conv2D)            (None, 8, 8, 128)         73856     \n",
            "_________________________________________________________________\n",
            "up_sampling2d_2 (UpSampling2 (None, 16, 16, 128)       0         \n",
            "_________________________________________________________________\n",
            "conv2d_7 (Conv2D)            (None, 14, 14, 256)       295168    \n",
            "_________________________________________________________________\n",
            "up_sampling2d_3 (UpSampling2 (None, 28, 28, 256)       0         \n",
            "_________________________________________________________________\n",
            "OUT (Conv2D)                 (None, 28, 28, 1)         2305      \n",
            "=================================================================\n",
            "Total params: 399,073\n",
            "Trainable params: 399,073\n",
            "Non-trainable params: 0\n",
            "_________________________________________________________________\n"
          ],
          "name": "stdout"
        }
      ]
    },
    {
      "cell_type": "code",
      "metadata": {
        "id": "1Nj6pR7DdHMR",
        "colab": {
          "base_uri": "https://localhost:8080/",
          "height": 34
        },
        "outputId": "092181e1-39b5-41c1-b162-7bf8d232eb08"
      },
      "source": [
        "# Reconstruct from latent\n",
        "test_hat = decoder_model.predict(test_latent.reshape((-1, 1, 1, 32)))\n",
        "print(test_hat.shape)"
      ],
      "execution_count": null,
      "outputs": [
        {
          "output_type": "stream",
          "text": [
            "(10000, 28, 28, 1)\n"
          ],
          "name": "stdout"
        }
      ]
    },
    {
      "cell_type": "code",
      "metadata": {
        "id": "dFSUBaAwdoWu",
        "colab": {
          "base_uri": "https://localhost:8080/",
          "height": 129
        },
        "outputId": "4ceb6170-2abf-4efe-9e14-66436523e11d"
      },
      "source": [
        "# Show a few reconstruction examples\n",
        "plt.figure(figsize=(20, 3))\n",
        "for i in range(10):\n",
        "  ax = plt.subplot(1, 10, i + 1)\n",
        "  plt.imshow(test_hat[i].reshape(28, 28), cmap='gray')\n",
        "  ax.get_xaxis().set_visible(False)\n",
        "  ax.get_yaxis().set_visible(False)\n",
        "plt.show()"
      ],
      "execution_count": null,
      "outputs": [
        {
          "output_type": "display_data",
          "data": {
            "image/png": "[encoded data removed]",
            "text/plain": [
              "<Figure size 1440x216 with 10 Axes>"
            ]
          },
          "metadata": {
            "tags": [],
            "needs_background": "light"
          }
        }
      ]
    },
    {
      "cell_type": "code",
      "metadata": {
        "id": "OQBbDbMoUXPW"
      },
      "source": [
        "# Encode training data\n",
        "train_latent = encoder.predict(x_train).reshape((len(x_train), -1))\n",
        "\n",
        "mean_train = train_latent.mean(axis=0)\n",
        "std_train  = train_latent.std(axis=0)"
      ],
      "execution_count": null,
      "outputs": []
    },
    {
      "cell_type": "code",
      "metadata": {
        "id": "vHbOrEclUaK6"
      },
      "source": [
        "# AUX function to sample from latent distribution\n",
        "def sample_z():\n",
        "  z = np.zeros((mean_train.shape))\n",
        "  for ind in range(mean_train.shape[0]):\n",
        "    z[ind] = np.random.normal(loc=mean_train[ind], scale=std_train[ind])\n",
        "  return z"
      ],
      "execution_count": null,
      "outputs": []
    },
    {
      "cell_type": "code",
      "metadata": {
        "id": "iOSy_G1Ff2pb",
        "colab": {
          "base_uri": "https://localhost:8080/",
          "height": 34
        },
        "outputId": "cdcd7a93-9678-4dbe-ea5d-65a2e20bcc9f"
      },
      "source": [
        "# Generate 10 random samples from latent distribution\n",
        "z_samples_hat = np.zeros((10, 28, 28, 1))\n",
        "for ind_samp in range(10):\n",
        "  z_samples_hat[ind_samp] = decoder_model.predict(sample_z().reshape((-1, 1, 1, 32)))\n",
        "\n",
        "print(z_samples_hat.shape)"
      ],
      "execution_count": null,
      "outputs": [
        {
          "output_type": "stream",
          "text": [
            "(10, 28, 28, 1)\n"
          ],
          "name": "stdout"
        }
      ]
    },
    {
      "cell_type": "code",
      "metadata": {
        "id": "eZ3KWeUGcgX6",
        "colab": {
          "base_uri": "https://localhost:8080/",
          "height": 129
        },
        "outputId": "3f60548c-9f7d-4cfe-afd9-1586b1051fa4"
      },
      "source": [
        "# Show a few reconstruction from random samples\n",
        "plt.figure(figsize=(20, 3))\n",
        "for i in range(10):\n",
        "  ax = plt.subplot(1, 10, i + 1)\n",
        "  plt.imshow(z_samples_hat[i].reshape(28, 28), cmap='gray')\n",
        "  ax.get_xaxis().set_visible(False)\n",
        "  ax.get_yaxis().set_visible(False)\n",
        "plt.show()"
      ],
      "execution_count": null,
      "outputs": [
        {
          "output_type": "display_data",
          "data": {
            "image/png": "[encoded data removed]",
            "text/plain": [
              "<Figure size 1440x216 with 10 Axes>"
            ]
          },
          "metadata": {
            "tags": [],
            "needs_background": "light"
          }
        }
      ]
    },
    {
      "cell_type": "code",
      "metadata": {
        "id": "I43TU7QzdWkt"
      },
      "source": [],
      "execution_count": null,
      "outputs": []
    }
  ]
}