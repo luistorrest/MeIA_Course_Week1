{
  "cells": [
    {
      "cell_type": "markdown",
      "metadata": {
        "id": "lT04-UgkCan_"
      },
      "source": [
        "Cargando la BD [MNIST](https://http://yann.lecun.com/exdb/mnist/) en Keras"
      ]
    },
    {
      "cell_type": "code",
      "execution_count": 109,
      "metadata": {
        "id": "x26RFPbgCaoG"
      },
      "outputs": [],
      "source": [
        "import numpy as np\n",
        "import matplotlib.pyplot as plt\n",
        "from sklearn.metrics import confusion_matrix, ConfusionMatrixDisplay\n",
        "from tensorflow.keras.datasets import mnist\n",
        "(train_images, train_labels), (test_images, test_labels) = mnist.load_data()"
      ]
    },
    {
      "cell_type": "markdown",
      "metadata": {
        "id": "DM9cJtu9CaoI"
      },
      "source": [
        "Información sobre los datos de entrenamiento"
      ]
    },
    {
      "cell_type": "code",
      "execution_count": 110,
      "metadata": {
        "colab": {
          "base_uri": "https://localhost:8080/"
        },
        "id": "knBC8piACaoJ",
        "outputId": "fedea5e0-ca8e-4a81-963d-a71aba3c3910"
      },
      "outputs": [
        {
          "output_type": "execute_result",
          "data": {
            "text/plain": [
              "(60000, 28, 28)"
            ]
          },
          "metadata": {},
          "execution_count": 110
        }
      ],
      "source": [
        "train_images.shape"
      ]
    },
    {
      "cell_type": "code",
      "execution_count": 111,
      "metadata": {
        "colab": {
          "base_uri": "https://localhost:8080/"
        },
        "id": "38q0U8R8CaoK",
        "outputId": "369b64d8-94bb-473d-985d-019108c614fe"
      },
      "outputs": [
        {
          "output_type": "execute_result",
          "data": {
            "text/plain": [
              "60000"
            ]
          },
          "metadata": {},
          "execution_count": 111
        }
      ],
      "source": [
        "len(train_labels)"
      ]
    },
    {
      "cell_type": "code",
      "execution_count": 112,
      "metadata": {
        "colab": {
          "base_uri": "https://localhost:8080/"
        },
        "id": "9_tsYRYECaoL",
        "outputId": "dd072acc-f1b5-45a8-96d8-cb3463c1ea4a"
      },
      "outputs": [
        {
          "output_type": "execute_result",
          "data": {
            "text/plain": [
              "array([5, 0, 4, ..., 5, 6, 8], dtype=uint8)"
            ]
          },
          "metadata": {},
          "execution_count": 112
        }
      ],
      "source": [
        "train_labels"
      ]
    },
    {
      "cell_type": "markdown",
      "metadata": {
        "id": "Wxe9IaTVCaoM"
      },
      "source": [
        "Información sobre los datos de prueba"
      ]
    },
    {
      "cell_type": "code",
      "execution_count": 113,
      "metadata": {
        "colab": {
          "base_uri": "https://localhost:8080/"
        },
        "id": "80WlE5W7CaoN",
        "outputId": "289008d5-c179-4640-8dbf-96acc42f9362"
      },
      "outputs": [
        {
          "output_type": "execute_result",
          "data": {
            "text/plain": [
              "(10000, 28, 28)"
            ]
          },
          "metadata": {},
          "execution_count": 113
        }
      ],
      "source": [
        "test_images.shape"
      ]
    },
    {
      "cell_type": "code",
      "execution_count": 114,
      "metadata": {
        "colab": {
          "base_uri": "https://localhost:8080/"
        },
        "id": "zFamMICzCaoO",
        "outputId": "92cc1d4c-2438-4acd-f49d-594ae464ec21"
      },
      "outputs": [
        {
          "output_type": "execute_result",
          "data": {
            "text/plain": [
              "10000"
            ]
          },
          "metadata": {},
          "execution_count": 114
        }
      ],
      "source": [
        "len(test_labels)"
      ]
    },
    {
      "cell_type": "code",
      "execution_count": 115,
      "metadata": {
        "colab": {
          "base_uri": "https://localhost:8080/"
        },
        "id": "RmnTcOxTCaoP",
        "outputId": "1bb41972-e6f4-423f-871e-d4f61e6d0005"
      },
      "outputs": [
        {
          "output_type": "execute_result",
          "data": {
            "text/plain": [
              "array([7, 2, 1, ..., 4, 5, 6], dtype=uint8)"
            ]
          },
          "metadata": {},
          "execution_count": 115
        }
      ],
      "source": [
        "test_labels"
      ]
    },
    {
      "cell_type": "markdown",
      "metadata": {
        "id": "AusjbugqCaoQ"
      },
      "source": [
        "Arquitectura de la red"
      ]
    },
    {
      "cell_type": "code",
      "execution_count": 116,
      "metadata": {
        "id": "j9vJPNbaCaoR"
      },
      "outputs": [],
      "source": [
        "from tensorflow.keras import models\n",
        "from tensorflow.keras import layers\n",
        "model = models.Sequential([\n",
        "  layers.Dense(512, activation='relu'),\n",
        "  layers.Dense(10, activation='softmax')\n",
        "])"
      ]
    },
    {
      "cell_type": "markdown",
      "metadata": {
        "id": "ybHE-h8hEgI0"
      },
      "source": [
        "Definición de optimizador, función de pérdida y métrica"
      ]
    },
    {
      "cell_type": "code",
      "execution_count": 117,
      "metadata": {
        "id": "JJ920WbnEfbq"
      },
      "outputs": [],
      "source": [
        "model.compile(optimizer='rmsprop',\n",
        "  loss='sparse_categorical_crossentropy',\n",
        "  metrics=['accuracy'])"
      ]
    },
    {
      "cell_type": "markdown",
      "metadata": {
        "id": "ZflXe7_jEvEj"
      },
      "source": [
        "Preparando los datos"
      ]
    },
    {
      "cell_type": "code",
      "execution_count": 118,
      "metadata": {
        "id": "5svu5EguEx14"
      },
      "outputs": [],
      "source": [
        "train_images = train_images.reshape((60000, 28 * 28))\n",
        "train_images = train_images.astype('float32') / 255\n",
        "test_images = test_images.reshape((10000, 28 * 28))\n",
        "test_images = test_images.astype('float32') / 255"
      ]
    },
    {
      "cell_type": "markdown",
      "metadata": {
        "id": "plpbAiTLCaoV"
      },
      "source": [
        "Entrenando la red"
      ]
    },
    {
      "cell_type": "code",
      "execution_count": 119,
      "metadata": {
        "colab": {
          "base_uri": "https://localhost:8080/"
        },
        "id": "R-EcxAJcCaoV",
        "outputId": "cf50f0b2-2af6-4a19-8c9e-fe670d89754a"
      },
      "outputs": [
        {
          "output_type": "stream",
          "name": "stdout",
          "text": [
            "Epoch 1/40\n",
            "1688/1688 [==============================] - 6s 3ms/step - loss: 0.2150 - accuracy: 0.9360 - val_loss: 0.1029 - val_accuracy: 0.9707\n",
            "Epoch 2/40\n",
            "1688/1688 [==============================] - 6s 3ms/step - loss: 0.0893 - accuracy: 0.9734 - val_loss: 0.0765 - val_accuracy: 0.9782\n",
            "Epoch 3/40\n",
            "1688/1688 [==============================] - 5s 3ms/step - loss: 0.0615 - accuracy: 0.9816 - val_loss: 0.0713 - val_accuracy: 0.9803\n",
            "Epoch 4/40\n",
            "1688/1688 [==============================] - 5s 3ms/step - loss: 0.0450 - accuracy: 0.9864 - val_loss: 0.0710 - val_accuracy: 0.9832\n",
            "Epoch 5/40\n",
            "1688/1688 [==============================] - 5s 3ms/step - loss: 0.0354 - accuracy: 0.9894 - val_loss: 0.0737 - val_accuracy: 0.9823\n",
            "Epoch 6/40\n",
            "1688/1688 [==============================] - 5s 3ms/step - loss: 0.0265 - accuracy: 0.9922 - val_loss: 0.0893 - val_accuracy: 0.9795\n",
            "Epoch 7/40\n",
            "1688/1688 [==============================] - 5s 3ms/step - loss: 0.0208 - accuracy: 0.9939 - val_loss: 0.0760 - val_accuracy: 0.9833\n",
            "Epoch 8/40\n",
            "1688/1688 [==============================] - 5s 3ms/step - loss: 0.0156 - accuracy: 0.9958 - val_loss: 0.0778 - val_accuracy: 0.9842\n",
            "Epoch 9/40\n",
            "1688/1688 [==============================] - 6s 3ms/step - loss: 0.0114 - accuracy: 0.9964 - val_loss: 0.0795 - val_accuracy: 0.9835\n",
            "Epoch 10/40\n",
            "1688/1688 [==============================] - 5s 3ms/step - loss: 0.0084 - accuracy: 0.9974 - val_loss: 0.0872 - val_accuracy: 0.9843\n",
            "Epoch 11/40\n",
            "1688/1688 [==============================] - 5s 3ms/step - loss: 0.0066 - accuracy: 0.9981 - val_loss: 0.0838 - val_accuracy: 0.9838\n",
            "Epoch 12/40\n",
            "1688/1688 [==============================] - 5s 3ms/step - loss: 0.0051 - accuracy: 0.9986 - val_loss: 0.0839 - val_accuracy: 0.9832\n",
            "Epoch 13/40\n",
            "1688/1688 [==============================] - 5s 3ms/step - loss: 0.0031 - accuracy: 0.9990 - val_loss: 0.0862 - val_accuracy: 0.9840\n",
            "Epoch 14/40\n",
            "1688/1688 [==============================] - 6s 3ms/step - loss: 0.0021 - accuracy: 0.9994 - val_loss: 0.0839 - val_accuracy: 0.9857\n",
            "Epoch 15/40\n",
            "1688/1688 [==============================] - 5s 3ms/step - loss: 0.0014 - accuracy: 0.9996 - val_loss: 0.0800 - val_accuracy: 0.9845\n",
            "Epoch 16/40\n",
            "1688/1688 [==============================] - 5s 3ms/step - loss: 5.7751e-04 - accuracy: 0.9999 - val_loss: 0.0877 - val_accuracy: 0.9847\n",
            "Epoch 17/40\n",
            "1688/1688 [==============================] - 5s 3ms/step - loss: 5.1584e-04 - accuracy: 0.9999 - val_loss: 0.0795 - val_accuracy: 0.9865\n",
            "Epoch 18/40\n",
            "1688/1688 [==============================] - 5s 3ms/step - loss: 1.6233e-04 - accuracy: 1.0000 - val_loss: 0.0830 - val_accuracy: 0.9860\n",
            "Epoch 19/40\n",
            "1688/1688 [==============================] - 5s 3ms/step - loss: 8.0064e-05 - accuracy: 1.0000 - val_loss: 0.0826 - val_accuracy: 0.9863\n",
            "Epoch 20/40\n",
            "1688/1688 [==============================] - 5s 3ms/step - loss: 5.7680e-05 - accuracy: 1.0000 - val_loss: 0.0829 - val_accuracy: 0.9857\n",
            "Epoch 21/40\n",
            "1688/1688 [==============================] - 6s 4ms/step - loss: 4.1540e-05 - accuracy: 1.0000 - val_loss: 0.0832 - val_accuracy: 0.9860\n",
            "Epoch 22/40\n",
            "1688/1688 [==============================] - 5s 3ms/step - loss: 3.4578e-05 - accuracy: 1.0000 - val_loss: 0.0844 - val_accuracy: 0.9860\n",
            "Epoch 23/40\n",
            "1688/1688 [==============================] - 5s 3ms/step - loss: 3.2005e-05 - accuracy: 1.0000 - val_loss: 0.0846 - val_accuracy: 0.9863\n",
            "Epoch 24/40\n",
            "1688/1688 [==============================] - 5s 3ms/step - loss: 2.8717e-05 - accuracy: 1.0000 - val_loss: 0.0850 - val_accuracy: 0.9858\n",
            "Epoch 25/40\n",
            "1688/1688 [==============================] - 5s 3ms/step - loss: 2.6747e-05 - accuracy: 1.0000 - val_loss: 0.0849 - val_accuracy: 0.9863\n",
            "Epoch 26/40\n",
            "1688/1688 [==============================] - 6s 3ms/step - loss: 2.5216e-05 - accuracy: 1.0000 - val_loss: 0.0855 - val_accuracy: 0.9863\n",
            "Epoch 27/40\n",
            "1688/1688 [==============================] - 5s 3ms/step - loss: 2.3728e-05 - accuracy: 1.0000 - val_loss: 0.0857 - val_accuracy: 0.9865\n",
            "Epoch 28/40\n",
            "1688/1688 [==============================] - 5s 3ms/step - loss: 2.2721e-05 - accuracy: 1.0000 - val_loss: 0.0855 - val_accuracy: 0.9863\n",
            "Epoch 29/40\n",
            "1688/1688 [==============================] - 5s 3ms/step - loss: 2.1403e-05 - accuracy: 1.0000 - val_loss: 0.0867 - val_accuracy: 0.9862\n",
            "Epoch 30/40\n",
            "1688/1688 [==============================] - 5s 3ms/step - loss: 2.0375e-05 - accuracy: 1.0000 - val_loss: 0.0866 - val_accuracy: 0.9863\n",
            "Epoch 31/40\n",
            "1688/1688 [==============================] - 5s 3ms/step - loss: 1.9476e-05 - accuracy: 1.0000 - val_loss: 0.0870 - val_accuracy: 0.9862\n",
            "Epoch 32/40\n",
            "1688/1688 [==============================] - 5s 3ms/step - loss: 1.8722e-05 - accuracy: 1.0000 - val_loss: 0.0875 - val_accuracy: 0.9862\n",
            "Epoch 33/40\n",
            "1688/1688 [==============================] - 6s 3ms/step - loss: 1.7915e-05 - accuracy: 1.0000 - val_loss: 0.0874 - val_accuracy: 0.9862\n",
            "Epoch 34/40\n",
            "1688/1688 [==============================] - 5s 3ms/step - loss: 1.7252e-05 - accuracy: 1.0000 - val_loss: 0.0870 - val_accuracy: 0.9863\n",
            "Epoch 35/40\n",
            "1688/1688 [==============================] - 5s 3ms/step - loss: 1.6657e-05 - accuracy: 1.0000 - val_loss: 0.0878 - val_accuracy: 0.9862\n",
            "Epoch 36/40\n",
            "1688/1688 [==============================] - 5s 3ms/step - loss: 1.6066e-05 - accuracy: 1.0000 - val_loss: 0.0877 - val_accuracy: 0.9862\n",
            "Epoch 37/40\n",
            "1688/1688 [==============================] - 5s 3ms/step - loss: 1.5542e-05 - accuracy: 1.0000 - val_loss: 0.0880 - val_accuracy: 0.9862\n",
            "Epoch 38/40\n",
            "1688/1688 [==============================] - 6s 3ms/step - loss: 1.5022e-05 - accuracy: 1.0000 - val_loss: 0.0882 - val_accuracy: 0.9863\n",
            "Epoch 39/40\n",
            "1688/1688 [==============================] - 5s 3ms/step - loss: 1.4564e-05 - accuracy: 1.0000 - val_loss: 0.0885 - val_accuracy: 0.9863\n",
            "Epoch 40/40\n",
            "1688/1688 [==============================] - 6s 3ms/step - loss: 1.4132e-05 - accuracy: 1.0000 - val_loss: 0.0882 - val_accuracy: 0.9863\n",
            "Model: \"sequential_6\"\n",
            "_________________________________________________________________\n",
            " Layer (type)                Output Shape              Param #   \n",
            "=================================================================\n",
            " dense_12 (Dense)            (None, 512)               401920    \n",
            "                                                                 \n",
            " dense_13 (Dense)            (None, 10)                5130      \n",
            "                                                                 \n",
            "=================================================================\n",
            "Total params: 407,050\n",
            "Trainable params: 407,050\n",
            "Non-trainable params: 0\n",
            "_________________________________________________________________\n"
          ]
        }
      ],
      "source": [
        "history = model.fit(x=train_images, y=train_labels, batch_size= 32, epochs=40, verbose=1, validation_split=0.1, shuffle=True)\n",
        "model.summary()"
      ]
    },
    {
      "cell_type": "markdown",
      "metadata": {
        "id": "UnyK2ZwcFglp"
      },
      "source": [
        "Hacer algunas predicciones (probabilidad de que sea un digito 0-9)"
      ]
    },
    {
      "cell_type": "code",
      "execution_count": 120,
      "metadata": {
        "colab": {
          "base_uri": "https://localhost:8080/"
        },
        "id": "bnP0YUWPFg7n",
        "outputId": "f2e5c94d-f346-4239-a579-b2e192b55d46"
      },
      "outputs": [
        {
          "output_type": "stream",
          "name": "stdout",
          "text": [
            "1/1 [==============================] - 0s 42ms/step\n",
            "[[6.55133451e-16 5.68438393e-18 1.13567628e-14 7.73272835e-11\n",
            "  1.63395357e-27 1.33716103e-18 1.90160628e-25 1.00000000e+00\n",
            "  4.25545837e-18 7.08593503e-13]\n",
            " [2.04014188e-17 2.45053565e-12 1.00000000e+00 1.42993968e-14\n",
            "  1.20649504e-26 1.04934097e-19 2.15700695e-17 2.24295496e-27\n",
            "  5.08566967e-15 1.29336779e-27]\n",
            " [3.18792871e-13 1.00000000e+00 3.29620287e-09 2.79395647e-14\n",
            "  1.46731405e-09 8.08440467e-12 3.55034960e-11 2.95995428e-09\n",
            "  1.92141272e-08 1.83151783e-14]\n",
            " [1.00000000e+00 5.31333731e-21 1.64777358e-13 2.41340817e-20\n",
            "  5.17855695e-17 4.59653567e-15 3.22981811e-12 8.16862745e-13\n",
            "  6.51524829e-23 6.18220126e-15]\n",
            " [3.28331858e-14 4.93380107e-18 9.54145176e-15 1.67444410e-20\n",
            "  9.99999881e-01 5.50327294e-19 2.84335272e-13 1.77620085e-10\n",
            "  1.97332101e-15 6.94052602e-08]\n",
            " [2.26544547e-16 1.00000000e+00 4.01503341e-14 3.49511126e-16\n",
            "  1.86711688e-11 2.72618166e-17 2.52940899e-16 5.28978905e-09\n",
            "  3.78204079e-10 5.41052618e-16]\n",
            " [1.72413298e-21 1.06544809e-17 1.09071083e-16 1.43829987e-20\n",
            "  1.00000000e+00 6.79390992e-16 4.48871644e-17 3.83202324e-12\n",
            "  9.15508025e-09 5.93735616e-10]\n",
            " [2.21120148e-16 1.58186547e-10 8.56533156e-09 5.40543112e-07\n",
            "  2.53648924e-09 8.78440387e-13 2.94358942e-18 1.53254756e-10\n",
            "  3.53655798e-12 9.99999404e-01]\n",
            " [5.86605264e-18 7.25026702e-19 5.92897259e-12 2.90001949e-19\n",
            "  3.66420522e-12 5.86466826e-02 9.41353142e-01 8.70256043e-19\n",
            "  9.34612316e-08 1.13245004e-11]\n",
            " [2.52783343e-26 5.15997739e-26 4.88260604e-28 3.15241551e-18\n",
            "  8.85821805e-10 2.82535771e-23 1.74736645e-29 8.51378863e-12\n",
            "  1.78915212e-14 1.00000000e+00]]\n"
          ]
        }
      ],
      "source": [
        "test_digits = test_images[0:10]\n",
        "predictions = model.predict(test_digits)\n",
        "predictions[0]\n",
        "print(predictions)"
      ]
    },
    {
      "cell_type": "markdown",
      "metadata": {
        "id": "50NLrh3IGTGn"
      },
      "source": [
        "Verificación del dígito"
      ]
    },
    {
      "cell_type": "code",
      "execution_count": 121,
      "metadata": {
        "colab": {
          "base_uri": "https://localhost:8080/"
        },
        "id": "pII6Lz8_Gb2q",
        "outputId": "0fe9b735-d281-48e9-96cb-ee688065d786"
      },
      "outputs": [
        {
          "output_type": "execute_result",
          "data": {
            "text/plain": [
              "2"
            ]
          },
          "metadata": {},
          "execution_count": 121
        }
      ],
      "source": [
        "test_labels[1]"
      ]
    },
    {
      "cell_type": "markdown",
      "metadata": {
        "id": "lqcY_BLyt1dA"
      },
      "source": [
        "Verificar sobreajuste"
      ]
    },
    {
      "cell_type": "code",
      "source": [
        "accuracy = history.history[\"accuracy\"]\n",
        "val_accuracy = history.history[\"val_accuracy\"]\n",
        "loss = history.history[\"loss\"]\n",
        "val_loss = history.history[\"val_loss\"]\n",
        "\n",
        "plt.plot(accuracy, \"y\", label=\"Training accuracy\")\n",
        "plt.plot(val_accuracy, \"b\", label=\"Validation accuracy\")\n",
        "\n",
        "plt.title(\"Training and validation accuracy\")\n",
        "plt.legend()\n",
        "plt.figure()\n",
        "plt.plot(loss, \"y\", label=\"Training loss\")\n",
        "plt.plot(val_loss, \"b\", label=\"Validation loss\")\n",
        "plt.title(\"Training and validation loss\")\n",
        "plt.legend()\n",
        "plt.show()"
      ],
      "metadata": {
        "colab": {
          "base_uri": "https://localhost:8080/",
          "height": 887
        },
        "id": "4ksrvyDhTOck",
        "outputId": "f9cdff02-abc0-4eac-f3d1-56bf2a7cc5a7"
      },
      "execution_count": 122,
      "outputs": [
        {
          "output_type": "display_data",
          "data": {
            "text/plain": [
              "<Figure size 640x480 with 1 Axes>"
            ],
            "image/png": "[encoded data removed]"
          },
          "metadata": {}
        },
        {
          "output_type": "display_data",
          "data": {
            "text/plain": [
              "<Figure size 640x480 with 1 Axes>"
            ],
            "image/png": "[encoded data removed]"
          },
          "metadata": {}
        }
      ]
    },
    {
      "cell_type": "markdown",
      "metadata": {
        "id": "mmjZcnN2t1dB"
      },
      "source": [
        "Evaluando la red"
      ]
    },
    {
      "cell_type": "code",
      "execution_count": 123,
      "metadata": {
        "id": "7odG6sjNCaoW",
        "colab": {
          "base_uri": "https://localhost:8080/"
        },
        "outputId": "2f4dc045-3caf-41d9-ed15-bcb2bf82eee2"
      },
      "outputs": [
        {
          "output_type": "stream",
          "name": "stdout",
          "text": [
            "313/313 [==============================] - 1s 3ms/step - loss: 0.0869 - accuracy: 0.9843\n",
            "test_acc:  0.9843000173568726\n",
            "test_loss:  0.08691756427288055\n"
          ]
        }
      ],
      "source": [
        "test_loss, test_acc = model.evaluate(test_images, test_labels)\n",
        "print('test_acc: ', test_acc)\n",
        "print('test_loss: ',test_loss)"
      ]
    },
    {
      "cell_type": "markdown",
      "metadata": {
        "id": "JeV2uIcPt1dC"
      },
      "source": [
        "Cálculo de la matriz de confusion"
      ]
    },
    {
      "cell_type": "code",
      "execution_count": 124,
      "metadata": {
        "id": "R7Fljr-Qt1dC",
        "colab": {
          "base_uri": "https://localhost:8080/",
          "height": 484
        },
        "outputId": "54e40f73-acf5-44e6-f133-f5c8a5481e6c"
      },
      "outputs": [
        {
          "output_type": "stream",
          "name": "stdout",
          "text": [
            "313/313 [==============================] - 1s 2ms/step\n"
          ]
        },
        {
          "output_type": "execute_result",
          "data": {
            "text/plain": [
              "<sklearn.metrics._plot.confusion_matrix.ConfusionMatrixDisplay at 0x7f38fc38fd30>"
            ]
          },
          "metadata": {},
          "execution_count": 124
        },
        {
          "output_type": "display_data",
          "data": {
            "text/plain": [
              "<Figure size 640x480 with 2 Axes>"
            ],
            "image/png": "[encoded data removed]"
          },
          "metadata": {}
        }
      ],
      "source": [
        "test_predictions = model.predict(test_images)\n",
        "cm = confusion_matrix(test_labels, test_predictions.argmax(axis=1))\n",
        "disp = ConfusionMatrixDisplay(confusion_matrix=cm)\n",
        "disp.plot()"
      ]
    },
    {
      "cell_type": "markdown",
      "metadata": {
        "id": "HU0sLr9ut1dD"
      },
      "source": [
        "Algunas métricas"
      ]
    },
    {
      "cell_type": "code",
      "execution_count": 125,
      "metadata": {
        "id": "mKEerh4Dt1dD",
        "colab": {
          "base_uri": "https://localhost:8080/"
        },
        "outputId": "66d86a04-b00e-4b8c-edf5-d6f3c39d5ea0"
      },
      "outputs": [
        {
          "output_type": "stream",
          "name": "stdout",
          "text": [
            "1875/1875 [==============================] - 3s 1ms/step\n",
            "(array([0.99966211, 0.99851786, 0.99865794, 0.99723082, 0.99914325,\n",
            "       0.99926008, 0.99831252, 0.99952077, 0.99880362, 0.99731318]), array([0.998987  , 0.99925838, 0.99916079, 0.99853205, 0.99811708,\n",
            "       0.99649511, 0.99966205, 0.99872306, 0.99880362, 0.99831905]), array([0.99932444, 0.99888798, 0.9989093 , 0.99788101, 0.9986299 ,\n",
            "       0.99787568, 0.99898683, 0.99912176, 0.99880362, 0.99781586]), array([5923, 6742, 5958, 6131, 5842, 5421, 5918, 6265, 5851, 5949]))\n"
          ]
        }
      ],
      "source": [
        "from sklearn.metrics import precision_recall_fscore_support\n",
        "train_labelsOut=model.predict(train_images)\n",
        "print(precision_recall_fscore_support(train_labels,np.argmax(train_labelsOut,axis=1),average=None,labels=[0,1,2,3,4,5,6,7,8,9]))"
      ]
    },
    {
      "cell_type": "markdown",
      "metadata": {
        "id": "7OGqgNaot1dD"
      },
      "source": [
        "Cargar de nuevo la BD y visualizar el dígito de la predicción"
      ]
    },
    {
      "cell_type": "code",
      "execution_count": 126,
      "metadata": {
        "id": "BuijjID1CaoX",
        "colab": {
          "base_uri": "https://localhost:8080/",
          "height": 430
        },
        "outputId": "be932da2-7ce5-4abb-958a-c52837c5d684"
      },
      "outputs": [
        {
          "output_type": "display_data",
          "data": {
            "text/plain": [
              "<Figure size 640x480 with 1 Axes>"
            ],
            "image/png": "[encoded data removed]"
          },
          "metadata": {}
        }
      ],
      "source": [
        "from keras.datasets import mnist\n",
        "(train_images, train_labels), (test_images, test_labels) = mnist.load_data()\n",
        "\n",
        "digit = test_images[1]\n",
        "import matplotlib.pyplot as plt\n",
        "plt.imshow(digit, cmap=plt.cm.binary)\n",
        "plt.show()"
      ]
    },
    {
      "cell_type": "markdown",
      "source": [],
      "metadata": {
        "id": "_v-1FYDcC5pg"
      }
    },
    {
      "cell_type": "markdown",
      "metadata": {
        "id": "QDS4UgZ-zq7C"
      },
      "source": [
        "Ejercicios:\n",
        "----------\n",
        "1. Cambie el batch_size ¿Qué observa? ¿Qué sucede si cambia su valor?\n",
        "\n",
        "**Con batch_size de 60**:\n",
        "\n",
        "train_loss: 0.0075 - train_accuracy: 0.9978\n",
        "\n",
        "test_loss: 0.0704 - test_accuracy: 0.9814\n",
        "\n",
        "**Con batch_size de 32**:\n",
        "\n",
        "Train_Loss: 0.0092 - train_accuracy: 0.9974\n",
        "\n",
        "test_loss: 0.0795 - test_acc: 0.9817\n",
        "\n",
        "**Con batch:size de 24**:\n",
        "\n",
        "train_Loss: 0.0063 - train_accuracy: 0.9981\n",
        "\n",
        "test_loss:  0.0902- test_acc:  0.9815\n",
        "\n",
        "**Con batch_size de 16**\n",
        "\n",
        "train_loss: 0.0186 - train_accuracy: 0.9952\n",
        "\n",
        "test_loss: 0.1220 - test_acc: 0.9777\n",
        "\n",
        "\n",
        "Al cambiar el valor de \"batch_size\" (tamaño del lote), se puede observar que los valores en la precisión (accuracy) no difieren significativamente. En todos los casos, se obtiene un valor similar y bastante alto. En cuanto a la función de pérdida, se puede observar que a medida que el \"batch_size\" aumenta, la \"Loss_function\" tiende a tener un valor más pequeño. Esto se refleja en las gráficas en relación con las épocas, lo cual coincide con la idea de que el modelo tiende a converger más rápidamente hacia un valor."
      ]
    },
    {
      "cell_type": "markdown",
      "source": [
        "2. ¿Mejora la precisión (**accuracy**) si aumenta las pasadas (**epoch**)? ¿Por qué?\n",
        "\n",
        "Se parte con un batch_size de 32 para cada uno\n",
        "\n",
        "**Con 10 epocas**:\n",
        "\n",
        "Train_Loss: 0.0092 - train_accuracy: 0.9974\n",
        "\n",
        "test_loss: 0.0795 - test_acc: 0.9817\n",
        "\n",
        "**Con 40 epocas**:\n",
        "\n",
        "train_loss: 1.4132e-05 - train_accuracy: 1.0000\n",
        "\n",
        "test_loss: 0.0869 - test_accuracy: 0.9843\n",
        "\n",
        "Únicamente con estos dos ejemplos y al analizar las curvas de Precisión vs Épocas, se puede observar que el modelo logra alcanzar un 100% de precisión después de 40 épocas. Esto podría sugerir que el modelo memoriza los datos de entrenamiento, lo que explicaría su falta de errores en la clasificación. Sin embargo, al evaluar los datos de prueba, se puede observar que el modelo es capaz de clasificar datos nunca antes vistos con una precisión similar. Esto indica que el modelo no está sobreajustado ni subajustado. En otras palabras, realizar un número excesivo de épocas sería un desperdicio de recursos, ya que con alrededor de 15 épocas, el modelo alcanza una precisión muy alta."
      ],
      "metadata": {
        "id": "NNRpNHLVCFB3"
      }
    }
  ],
  "metadata": {
    "accelerator": "GPU",
    "colab": {
      "provenance": []
    },
    "gpuClass": "standard",
    "kernelspec": {
      "display_name": "Python 3 (ipykernel)",
      "language": "python",
      "name": "python3"
    },
    "language_info": {
      "codemirror_mode": {
        "name": "ipython",
        "version": 3
      },
      "file_extension": ".py",
      "mimetype": "text/x-python",
      "name": "python",
      "nbconvert_exporter": "python",
      "pygments_lexer": "ipython3",
      "version": "3.9.13"
    }
  },
  "nbformat": 4,
  "nbformat_minor": 0
}