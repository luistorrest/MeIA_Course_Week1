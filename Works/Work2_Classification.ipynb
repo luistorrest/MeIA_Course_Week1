{
  "cells": [
    {
      "cell_type": "code",
      "execution_count": 3,
      "metadata": {
        "id": "bL4qXWUsazRi"
      },
      "outputs": [],
      "source": [
        "import numpy as np\n",
        "import matplotlib.pyplot as plt\n",
        "from skimage.io import imread"
      ]
    },
    {
      "cell_type": "code",
      "source": [
        "from google.colab import drive\n",
        "drive.mount('/content/drive')"
      ],
      "metadata": {
        "colab": {
          "base_uri": "https://localhost:8080/"
        },
        "id": "V5Zrid0vPlXX",
        "outputId": "2e3f1d19-aff4-433c-a5bf-7be144c2a850"
      },
      "execution_count": 1,
      "outputs": [
        {
          "output_type": "stream",
          "name": "stdout",
          "text": [
            "Mounted at /content/drive\n"
          ]
        }
      ]
    },
    {
      "cell_type": "code",
      "execution_count": 7,
      "metadata": {
        "id": "TbHf7tBsh3JN"
      },
      "outputs": [],
      "source": [
        "from GIST import GIST # Downloaded from https://github.com/imoken1122/GIST-feature-extractor"
      ]
    },
    {
      "cell_type": "code",
      "execution_count": 11,
      "metadata": {
        "id": "lejIioW2ogb5"
      },
      "outputs": [],
      "source": [
        "# Use skimage\n",
        "from skimage.feature import hog\n",
        "from skimage.transform import resize"
      ]
    },
    {
      "cell_type": "code",
      "execution_count": 15,
      "metadata": {
        "id": "qhzkZfVXE7G-"
      },
      "outputs": [],
      "source": [
        "# Dataset Caltech 101\n",
        "# Source: http://www.vision.caltech.edu/Image_Datasets/Caltech101/Caltech101.html"
      ]
    },
    {
      "cell_type": "code",
      "execution_count": 16,
      "metadata": {
        "id": "ZPuzuc0I1YwI",
        "outputId": "1287d9f0-4e1b-497a-c140-4769c7e0b87c",
        "colab": {
          "base_uri": "https://localhost:8080/"
        }
      },
      "outputs": [
        {
          "output_type": "stream",
          "name": "stdout",
          "text": [
            "Num of classes: 6\n"
          ]
        }
      ],
      "source": [
        "# Find the name of each class\n",
        "base_path = \"/content/drive/MyDrive/Caltech_101\"\n",
        "class_names = listdir(base_path)\n",
        "print(\"Num of classes:\", len(class_names))"
      ]
    },
    {
      "cell_type": "markdown",
      "metadata": {
        "id": "iXBYlRHo1YwK"
      },
      "source": [
        "#Mini-project - Image classification"
      ]
    },
    {
      "cell_type": "code",
      "execution_count": 41,
      "metadata": {
        "id": "-TLo72wR1YwL"
      },
      "outputs": [],
      "source": [
        "\n",
        "import numpy as np\n",
        "import matplotlib.pyplot as plt\n",
        "\n",
        "from os import listdir\n",
        "from os.path import join\n",
        "from skimage.io import imread\n",
        "from skimage.feature import hog\n",
        "from skimage.transform import resize\n",
        "from sklearn.metrics import confusion_matrix\n",
        "from GIST import GIST"
      ]
    },
    {
      "cell_type": "code",
      "execution_count": 42,
      "metadata": {
        "id": "0fhVJfShogcT"
      },
      "outputs": [],
      "source": [
        "# Size for images\n",
        "#nrows = 300\n",
        "#ncols = 200\n",
        "\n",
        "nrows = 349\n",
        "ncols = 352"
      ]
    },
    {
      "cell_type": "code",
      "execution_count": 43,
      "metadata": {
        "id": "vt_hXeJv1YwL"
      },
      "outputs": [],
      "source": [
        "# == Q1 ==\n",
        "# Encuentra una manera de cargar 40 imágenes por cada clase del dataset Caltech 101 y almancenarlas en un sólo tensor X.\n",
        "# Tú decide el tamaño de cada imágen. Asigna una etiqueta (números enteros) a cada clase, y crea el vector Y cuya longitud\n",
        "# sea igual a X, y en donde cada elemento de Y indique la clase de su correspondiente imagen en X.\n",
        "# Reporta las longitudes de los arreglo X e Y, el tamaño de las imagénes, y los valores mínimo y máximo de la magnitud de\n",
        "# los píxeles.\n",
        "\n",
        "# A1:   Xshape =  (200, 349, 352)\n",
        "#       Xmin   =  0.0\n",
        "#       Xmax   =  1.0\n",
        "#       Yshape =  (200,)\n",
        "#       Ymin   =  0.0\n",
        "#       Ymax   =  5.0\n"
      ]
    },
    {
      "cell_type": "code",
      "execution_count": 44,
      "metadata": {
        "id": "UQtRch3i1YwL",
        "outputId": "c9f1422b-9fb8-42d9-8daf-776fc20eaa58",
        "colab": {
          "base_uri": "https://localhost:8080/"
        }
      },
      "outputs": [
        {
          "output_type": "stream",
          "name": "stdout",
          "text": [
            "Num of classes: 6\n",
            "Xshape =  (200, 349, 352)\n",
            "Xmin   =  0.0\n",
            "Xmax   =  1.0\n",
            "Yshape =  (200,)\n",
            "Ymin   =  0.0\n",
            "Ymax   =  5.0\n"
          ]
        }
      ],
      "source": [
        "# Find the name of each class\n",
        "base_path = \"/content/drive/MyDrive/Caltech_101\"\n",
        "class_names = listdir(base_path)\n",
        "print(\"Num of classes:\", len(class_names))\n",
        "\n",
        "# Load first 40 images from each class and label them\n",
        "X = np.empty(shape=(0, nrows, ncols))\n",
        "Y = np.empty(shape=(0))\n",
        "for cl in range(len(class_names)):\n",
        "    if cl != 1:\n",
        "        files = [join(base_path, class_names[cl], f) for f in listdir(join(base_path, class_names[cl]))]\n",
        "        X1 = np.array([resize(imread(f, as_gray='True'), (nrows, ncols)) for f in files[:40]])\n",
        "        X = np.concatenate((X, X1))\n",
        "        Y = np.concatenate((Y, cl * np.ones((len(X1)))))\n",
        "\n",
        "print('Xshape = ', X.shape)\n",
        "print('Xmin   = ', X.min())\n",
        "print('Xmax   = ', X.max())\n",
        "print('Yshape = ', Y.shape)\n",
        "print('Ymin   = ', Y.min())\n",
        "print('Ymax   = ', Y.max())\n"
      ]
    },
    {
      "cell_type": "code",
      "execution_count": 45,
      "metadata": {
        "id": "qTSc_eT_1YwL"
      },
      "outputs": [],
      "source": [
        "# == Q2 ==\n",
        "# Calcula el descriptor GIST para cada imagen.\n",
        "# Revisa la documentación de sklearn.neighbors.KNeighborsClassifier. Usa KNeighborsClassifier junto con los descriptores\n",
        "# GIST para clasificar las imágenes\n",
        "# Reporta la exactitud de clasificación.\n",
        "\n",
        "# A2: Exactitud 99.5%"
      ]
    },
    {
      "cell_type": "code",
      "execution_count": 46,
      "metadata": {
        "id": "uQ4shed81YwL",
        "outputId": "31ad2fb1-a812-4eb5-9a74-0e71b99a512c",
        "colab": {
          "base_uri": "https://localhost:8080/"
        }
      },
      "outputs": [
        {
          "output_type": "stream",
          "name": "stdout",
          "text": [
            "(200, 512)\n"
          ]
        }
      ],
      "source": [
        "# Compute GIST for each image\n",
        "# Puede tardar un rato, ya que son muchas imágenes\n",
        "param = {\"orientationsPerScale\":np.array([8, 8, 8, 8]),\n",
        "         \"numberBlocks\":[4, 4],\n",
        "         \"fc_prefilt\":10,\n",
        "         \"boundaryExtension\":32}\n",
        "\n",
        "gist = GIST(param)\n",
        "X_GIST = np.array([gist._gist_extract(img) for img in X])\n",
        "print(X_GIST.shape)"
      ]
    },
    {
      "cell_type": "code",
      "execution_count": 47,
      "metadata": {
        "id": "uficcsZM1YwM",
        "outputId": "815deff2-6ec6-4439-e32d-3ed1d480cb33",
        "colab": {
          "base_uri": "https://localhost:8080/"
        }
      },
      "outputs": [
        {
          "output_type": "stream",
          "name": "stdout",
          "text": [
            "Accuracy: 0.995\n"
          ]
        }
      ],
      "source": [
        "from sklearn.neighbors import KNeighborsClassifier\n",
        "# Train classifier\n",
        "kNN = KNeighborsClassifier(n_neighbors=1)\n",
        "kNN.fit(X_GIST, Y)\n",
        "\n",
        "# Predict\n",
        "y_hat = kNN.predict(X_GIST)\n",
        "acc = kNN.score(X_GIST, Y)\n",
        "print(f\"Accuracy: {acc}\")"
      ]
    },
    {
      "cell_type": "code",
      "execution_count": 48,
      "metadata": {
        "id": "rcdENX9v1YwM"
      },
      "outputs": [],
      "source": [
        "# == Q3 ==\n",
        "# Usa el modelo grid search evalúa el desempeño de clasificación para:\n",
        "# numberBlocks de GIST = 4x4, 7x7, 10x10, y\n",
        "# clasificador kNN con k = 1, 3, 5, 10\n",
        "# Puede reportar los resultados de exactitud en una tabla de 3 filas con 4 columnas\n",
        "\n",
        "# A3:\n",
        "# Num blocks:  4 x  4 --\tnn:  1 - acc: 0.99, nn:  3 - acc: 0.86, nn:  5 - acc: 0.84, nn: 10 - acc: 0.83,\n",
        "# Num blocks:  7 x  7 --\tnn:  1 - acc: 0.99, nn:  3 - acc: 0.89, nn:  5 - acc: 0.88, nn: 10 - acc: 0.85,\n",
        "# Num blocks:  8 x  8 --\tnn:  1 - acc: 0.99, nn:  3 - acc: 0.89, nn:  5 - acc: 0.87, nn: 10 - acc: 0.85,"
      ]
    },
    {
      "cell_type": "code",
      "execution_count": 49,
      "metadata": {
        "id": "j9aBz5ZL1YwM"
      },
      "outputs": [],
      "source": [
        "# AUX function to compute GIST with different hyperparameters\n",
        "def get_GIST(nblocks):\n",
        "    # Compute GIST for each image\n",
        "    param = {\"orientationsPerScale\":np.array([8, 8, 8, 8]), \"numberBlocks\":[nblocks, nblocks],\n",
        "             \"fc_prefilt\":10, \"boundaryExtension\":32}\n",
        "    gist = GIST(param)\n",
        "    X_GIST = np.array([gist._gist_extract(img) for img in X])\n",
        "    return X_GIST"
      ]
    },
    {
      "cell_type": "code",
      "execution_count": 50,
      "metadata": {
        "id": "Kx3ZTGVG1YwM",
        "outputId": "39b2a2f1-596a-4a7b-f9e7-2a99b92993cc",
        "colab": {
          "base_uri": "https://localhost:8080/"
        }
      },
      "outputs": [
        {
          "output_type": "stream",
          "name": "stdout",
          "text": [
            "Num blocks:  4 x  4 --\tnn:  1 - acc: 0.99, nn:  3 - acc: 0.87, nn:  5 - acc: 0.84, nn: 10 - acc: 0.83, \n",
            "Num blocks:  7 x  7 --\tnn:  1 - acc: 0.99, nn:  3 - acc: 0.89, nn:  5 - acc: 0.88, nn: 10 - acc: 0.85, \n",
            "Num blocks:  8 x  8 --\tnn:  1 - acc: 0.99, nn:  3 - acc: 0.89, nn:  5 - acc: 0.87, nn: 10 - acc: 0.85, \n"
          ]
        }
      ],
      "source": [
        "# Get table from 2 nested loops\n",
        "for nblocks in [4, 7, 8]: # region 4x4 7x7 y 8x8\n",
        "    print(f\"Num blocks: {nblocks:2d} x {nblocks:2d} --\", end='\\t')\n",
        "    X_GIST = get_GIST(nblocks)\n",
        "    for nn in [1, 3, 5, 10]:\n",
        "        kNN = KNeighborsClassifier(n_neighbors=nn)\n",
        "        kNN.fit(X_GIST, Y)\n",
        "        acc = kNN.score(X_GIST, Y)\n",
        "        print(f\"nn: {nn:2d} - acc: {acc:4.2f}\", end=', ')\n",
        "    print(\"\")"
      ]
    },
    {
      "cell_type": "code",
      "execution_count": 51,
      "metadata": {
        "id": "h09zs1bX1YwM",
        "outputId": "31b5ed31-3d81-42d7-f78c-2459cabfcacd",
        "colab": {
          "base_uri": "https://localhost:8080/"
        }
      },
      "outputs": [
        {
          "output_type": "stream",
          "name": "stdout",
          "text": [
            "Num blocks:  4 x  4 -- size = (512,)\n",
            "Num blocks:  7 x  7 -- size = (1568,)\n",
            "Num blocks:  8 x  8 -- size = (2048,)\n"
          ]
        }
      ],
      "source": [
        "# Classification performance is the same. Keep shortest descriptor as best ones\n",
        "# Compute GIST only for one image and different number of blocks, just to see which one is the shortest\n",
        "for nblocks in [4, 7, 8]:\n",
        "    param = {\"orientationsPerScale\":np.array([8, 8, 8, 8]),\n",
        "             \"numberBlocks\":[nblocks, nblocks],\n",
        "             \"fc_prefilt\":10,\n",
        "             \"boundaryExtension\":32}\n",
        "    gist = GIST(param)\n",
        "    print(f\"Num blocks: {nblocks:2d} x {nblocks:2d} -- size = {gist._gist_extract(X[0]).shape}\")\n",
        "\n",
        "\n"
      ]
    },
    {
      "cell_type": "code",
      "execution_count": null,
      "metadata": {
        "id": "2WDdets71YwN"
      },
      "outputs": [],
      "source": [
        "# == Q4 ==\n",
        "# Revisa la documentación sklearn.metrics.confusion_matrix y crea la matriz de confusión para el mejor modelo obtenido\n",
        "# con la búsqueda de la pregunta anterior.\n",
        "# Grafica la matriz"
      ]
    },
    {
      "cell_type": "code",
      "execution_count": 54,
      "metadata": {
        "id": "e2ayDVvR1YwN",
        "outputId": "07985754-20c9-4378-da6a-349dc19b433f",
        "colab": {
          "base_uri": "https://localhost:8080/"
        }
      },
      "outputs": [
        {
          "output_type": "stream",
          "name": "stdout",
          "text": [
            "Accuracy: 0.995\n",
            "(200,)\n"
          ]
        }
      ],
      "source": [
        "# Use nbloks = 4x4 (shortest) and 1NN: Compute GIST, kNN and predict.\n",
        "param = {\"orientationsPerScale\":np.array([8, 8, 8, 8]), \"numberBlocks\":[4, 4], \"fc_prefilt\":10, \"boundaryExtension\":32}\n",
        "gist = GIST(param)\n",
        "X_GIST = np.array([gist._gist_extract(resize(img, (349, 352))) for img in X])\n",
        "kNN = KNeighborsClassifier(n_neighbors=1)\n",
        "kNN.fit(X_GIST, Y)\n",
        "print(f\"Accuracy: {kNN.score(X_GIST, Y)}\")\n",
        "y_hat = kNN.predict(X_GIST)\n",
        "print(y_hat.shape)"
      ]
    },
    {
      "cell_type": "code",
      "execution_count": 53,
      "metadata": {
        "id": "wmn4InO91YwN",
        "outputId": "55dd4878-7939-4767-b1a2-7abe7c5c915c",
        "colab": {
          "base_uri": "https://localhost:8080/",
          "height": 530
        }
      },
      "outputs": [
        {
          "output_type": "stream",
          "name": "stdout",
          "text": [
            "(5, 5)\n"
          ]
        },
        {
          "output_type": "display_data",
          "data": {
            "text/plain": [
              "<Figure size 600x600 with 2 Axes>"
            ],
            "image/png": "[encoded data removed]"
          },
          "metadata": {}
        }
      ],
      "source": [
        "\n",
        "# Confusion matrix\n",
        "CM = confusion_matrix(Y, y_hat)\n",
        "print(CM.shape)\n",
        "\n",
        "plt.figure(figsize=(6, 6))\n",
        "plt.imshow(CM, cmap='jet')\n",
        "plt.colorbar()\n",
        "plt.show()"
      ]
    },
    {
      "cell_type": "code",
      "execution_count": null,
      "metadata": {
        "id": "uCrxOlAm1YwO"
      },
      "outputs": [],
      "source": [
        "# == Q5 ==\n",
        "# Ahora calcula los descriptores HoG para las imágenes en X (tú decide si las rescalas o no)\n",
        "# Usando grid search, evalua el impacto sobre la exactitud de clasificación kNN de los siguientes parámetros\n",
        "# orientations = 4, 9, 16,\n",
        "# cells_per_block = (1, 1), (2, 2), (3, 3)\n",
        "# Reporta los resultados en una tabla\n",
        "\n",
        "# A5:\n",
        "# \t \t Cells per block\n",
        "# Orientations:\t 1x1 \t 2x2 \t 3x3\n",
        "# \t  4 \t0.99\t0.99\t0.99\n",
        "# \t  9 \t0.99\t0.99\t0.99\n",
        "# \t 16 \t0.99\t0.99\t0.99"
      ]
    },
    {
      "cell_type": "code",
      "execution_count": null,
      "metadata": {
        "id": "0MMdrJNI1YwO",
        "outputId": "74d23d9f-a211-4dd0-c298-c382391ea110",
        "colab": {
          "base_uri": "https://localhost:8080/"
        }
      },
      "outputs": [
        {
          "output_type": "stream",
          "name": "stdout",
          "text": [
            "\t \t Cells per block\n",
            "Orientations:\t 1x1 \t 2x2 \t 3x3\n",
            "\t  4 \t0.99\t0.99\t0.99\t\n",
            "\t  9 \t0.99\t0.99\t0.99\t\n",
            "\t 16 \t0.99\t0.99\t0.99\t\n"
          ]
        }
      ],
      "source": [
        "# Revisa accuracy con distintos valores de parámetros\n",
        "print(f\"\\t \\t Cells per block\")\n",
        "print(f\"Orientations:\\t 1x1 \\t 2x2 \\t 3x3\")\n",
        "for orient in [4, 9, 16]:\n",
        "    print(f\"\\t {orient:2d} \\t\", end='')\n",
        "    for cells in [1, 2, 3]:\n",
        "        X_HOG = np.array([hog(img, orientations=orient, pixels_per_cell=(8, 8), cells_per_block=(cells, cells)) for img in X])\n",
        "        kNN = KNeighborsClassifier(n_neighbors=1)\n",
        "        kNN.fit(X_HOG, Y)\n",
        "        print(f\"{kNN.score(X_HOG, Y):4.2f}\", end='\\t', flush=True)\n",
        "    print('')"
      ]
    },
    {
      "cell_type": "code",
      "execution_count": null,
      "metadata": {
        "id": "_StqR8oB1YwO"
      },
      "outputs": [],
      "source": [
        "# == Q6 ==\n",
        "# ¿El cambio en el valor de los parámetros evaluados en la pregunta anterior tiene algún impacto en la longitud del\n",
        "# descriptor? ¿Por qué?\n",
        "\n",
        "# Sí. Como indica la tabla anterior, ambos parámetros influyen en el tamaño del descriptor.\n",
        "# El número de orientaciones indica el número de bins en el histograma de cada celda. Entre mayor sea, más largo es el descriptor.\n",
        "# Y el número de celdas por bloque, indica cuantos histogramas se concatenan juntos. Entre mayor sea, más largo es el descriptor."
      ]
    },
    {
      "cell_type": "code",
      "execution_count": null,
      "metadata": {
        "id": "GUhK-EGt1YwO",
        "outputId": "ead4d1e0-4a53-411a-8349-22cd61a41ee8",
        "colab": {
          "base_uri": "https://localhost:8080/"
        }
      },
      "outputs": [
        {
          "output_type": "stream",
          "name": "stdout",
          "text": [
            "\t \t Cells per block\n",
            "Orientations:\t 1x1 \t 2x2 \t 3x3\n",
            "\t  4 \t(7568,)\t(28896,)\t(61992,)\t\n",
            "\t  9 \t(17028,)\t(65016,)\t(139482,)\t\n",
            "\t 16 \t(30272,)\t(115584,)\t(247968,)\t\n"
          ]
        }
      ],
      "source": [
        "# Revisa tamaño con una sola imagen: process just 1 image\n",
        "print(f\"\\t \\t Cells per block\")\n",
        "print(f\"Orientations:\\t 1x1 \\t 2x2 \\t 3x3\")\n",
        "for orient in [4, 9, 16]:\n",
        "    print(f\"\\t {orient:2d} \\t\", end='')\n",
        "    for cells in [1, 2, 3]:\n",
        "        h = hog(X[0], orientations=orient, pixels_per_cell=(8, 8), cells_per_block=(cells, cells))\n",
        "        print(f\"{h.shape}\", end='\\t', flush=True)\n",
        "    print('')"
      ]
    },
    {
      "cell_type": "code",
      "execution_count": null,
      "metadata": {
        "id": "t_HiB7qo1YwP"
      },
      "outputs": [],
      "source": [
        "# == Q7 ==\n",
        "# Muestra la matriz de confusión para la mejor combinación de parámetros de HoG"
      ]
    },
    {
      "cell_type": "code",
      "execution_count": null,
      "metadata": {
        "id": "QtciHVji1YwP",
        "outputId": "0a6aa8e4-9c01-4695-dfcb-14953f4f9c74",
        "colab": {
          "base_uri": "https://localhost:8080/",
          "height": 565
        }
      },
      "outputs": [
        {
          "output_type": "stream",
          "name": "stdout",
          "text": [
            "Accuracy: 0.995\n",
            "(200,)\n",
            "(5, 5)\n"
          ]
        },
        {
          "output_type": "display_data",
          "data": {
            "text/plain": [
              "<Figure size 600x600 with 2 Axes>"
            ],
            "image/png": "[encoded data removed]"
          },
          "metadata": {}
        }
      ],
      "source": [
        "# Igual podemos elegir la más corta\n",
        "X_HOG = np.array([hog(img, orientations=4, pixels_per_cell=(8, 8), cells_per_block=(1, 1)) for img in X])\n",
        "kNN = KNeighborsClassifier(n_neighbors=1)\n",
        "kNN.fit(X_HOG, Y)\n",
        "print(f\"Accuracy: {kNN.score(X_HOG, Y)}\")\n",
        "y_hat = kNN.predict(X_HOG)\n",
        "print(y_hat.shape)\n",
        "\n",
        "# Confusion matrix\n",
        "CM = confusion_matrix(Y, y_hat)\n",
        "print(CM.shape)\n",
        "\n",
        "plt.figure(figsize=(6, 6))\n",
        "plt.imshow(CM, cmap='jet')\n",
        "plt.colorbar()\n",
        "plt.show()"
      ]
    },
    {
      "cell_type": "code",
      "execution_count": null,
      "metadata": {
        "id": "Odjtb-071YwP"
      },
      "outputs": [],
      "source": [
        "# == Q8 ==\n",
        "# Según la evaluación anterior, ¿qué descriptor parece ser más adecuado para esta base de datos, GIST o HoG?\n",
        "# ¿Por qué crees que sea así?\n",
        "# Ambos son capaces de obtener exactitud de clasificación = 1.\n",
        "# Sin embargo, si comparamos la longitud de los vectores, podrímos pensar que GIST tiene mejor desemepeño."
      ]
    },
    {
      "cell_type": "code",
      "execution_count": null,
      "metadata": {
        "id": "y2tZMo5G1YwP"
      },
      "outputs": [],
      "source": [
        "# Some useful links\n",
        "# https://scikit-learn.org/stable/modules/generated/sklearn.metrics.confusion_matrix.html\n",
        "# https://scikit-learn.org/stable/modules/generated/sklearn.neighbors.KNeighborsClassifier.html"
      ]
    },
    {
      "cell_type": "code",
      "execution_count": null,
      "metadata": {
        "id": "VE93AtJa1YwP"
      },
      "outputs": [],
      "source": [
        "# Some extra refs for more datasets:\n",
        "# https://analyticsindiamag.com/10-open-datasets-you-can-use-for-computer-vision-projects/\n",
        "# http://www.cvpapers.com/datasets.html"
      ]
    },
    {
      "cell_type": "markdown",
      "source": [
        "# Part 2: SIFT computation for a set of images"
      ],
      "metadata": {
        "id": "_FZHy8SEAI58"
      }
    },
    {
      "cell_type": "code",
      "source": [
        "import numpy as np\n",
        "import matplotlib.pyplot as plt\n",
        "import cv2"
      ],
      "metadata": {
        "id": "PcCDH8JWMrF0"
      },
      "execution_count": null,
      "outputs": []
    },
    {
      "cell_type": "code",
      "source": [
        "# Define a base directory\n",
        "BASEPATH = '/content/drive/MyDrive/Caltech_101'"
      ],
      "metadata": {
        "id": "KElSby98AL86"
      },
      "execution_count": null,
      "outputs": []
    },
    {
      "cell_type": "code",
      "source": [
        "# Count the number of images in each class of the Caltech101 dataset\n",
        "import os\n",
        "\n",
        "class_names = os.listdir(BASEPATH)\n",
        "class_names.sort()\n",
        "class_freqs = np.array([len(os.listdir(os.path.join(BASEPATH, class_id))) for class_id in class_names])\n",
        "\n",
        "class_names = class_names[1:6]\n",
        "class_freqs = class_freqs[1:6]\n",
        "\n",
        "print(f\"{len(class_names)} classes found.\")\n",
        "print(class_names)\n",
        "print(class_freqs)"
      ],
      "metadata": {
        "colab": {
          "base_uri": "https://localhost:8080/"
        },
        "id": "8ESP2qkZAb2q",
        "outputId": "0ffcdd2c-2b9d-4e33-ad68-9386d4849ec1"
      },
      "execution_count": null,
      "outputs": [
        {
          "output_type": "stream",
          "name": "stdout",
          "text": [
            "5 classes found.\n",
            "['accordion', 'airplanes', 'anchor', 'ant', 'brontosaurus']\n",
            "[40 40 41 40 40]\n"
          ]
        }
      ]
    },
    {
      "cell_type": "code",
      "source": [
        "# Plot a histogram\n",
        "plt.figure(figsize=(16, 3))\n",
        "plt.bar(range(len(class_freqs)), class_freqs)\n",
        "plt.show()"
      ],
      "metadata": {
        "colab": {
          "base_uri": "https://localhost:8080/",
          "height": 254
        },
        "id": "hpi2f3mdMX46",
        "outputId": "e73358d5-b292-43e3-8d64-b4f64c8dfc81"
      },
      "execution_count": null,
      "outputs": [
        {
          "output_type": "display_data",
          "data": {
            "text/plain": [
              "<Figure size 1600x300 with 1 Axes>"
            ],
            "image/png": "[encoded data removed]"
          },
          "metadata": {}
        }
      ]
    },
    {
      "cell_type": "code",
      "source": [
        "# Remove classes with more than 60 instances\n",
        "from itertools import compress\n",
        "to_Keep = class_freqs <= 60\n",
        "class_names = list(compress(class_names, to_Keep))\n",
        "class_freqs = class_freqs[to_Keep]\n",
        "\n",
        "plt.figure(figsize=(16, 3))\n",
        "plt.bar(range(len(class_freqs)), class_freqs)\n",
        "plt.xticks(range(len(class_freqs)), class_names, rotation='vertical')\n",
        "plt.grid()\n",
        "plt.show()"
      ],
      "metadata": {
        "colab": {
          "base_uri": "https://localhost:8080/",
          "height": 322
        },
        "id": "CpBPMdcGMdir",
        "outputId": "82ef5088-3320-4088-ad7f-1d8445534a77"
      },
      "execution_count": null,
      "outputs": [
        {
          "output_type": "display_data",
          "data": {
            "text/plain": [
              "<Figure size 1600x300 with 1 Axes>"
            ],
            "image/png": "[encoded data removed]"
          },
          "metadata": {}
        }
      ]
    },
    {
      "cell_type": "code",
      "source": [
        "# Show one example per class\n",
        "plt.figure(figsize=(20, 10))\n",
        "for it_class, class_id in enumerate(class_names):\n",
        "    class_files = os.listdir(os.path.join(BASEPATH, class_id))\n",
        "    img = cv2.imread(os.path.join(BASEPATH, class_id, class_files[0]))\n",
        "    img = cv2.cvtColor(img, cv2.COLOR_BGR2GRAY)\n",
        "    plt.subplot(5, 25, it_class+1)\n",
        "    plt.imshow(img, cmap='gray')\n",
        "    plt.axis('off')\n",
        "plt.show()"
      ],
      "metadata": {
        "colab": {
          "base_uri": "https://localhost:8080/",
          "height": 95
        },
        "id": "ghOQVqjQMkfn",
        "outputId": "44620eb6-f232-47ff-d91e-1b4b106cdcd9"
      },
      "execution_count": null,
      "outputs": [
        {
          "output_type": "display_data",
          "data": {
            "text/plain": [
              "<Figure size 2000x1000 with 5 Axes>"
            ],
            "image/png": "[encoded data removed]"
          },
          "metadata": {}
        }
      ]
    },
    {
      "cell_type": "code",
      "source": [
        "# Get the full path for all files\n",
        "all_files_names = []\n",
        "all_files_classes = []\n",
        "for it_class, class_id in enumerate(class_names):\n",
        "    class_files = os.listdir(os.path.join(BASEPATH, class_id))\n",
        "    for file_name in class_files:\n",
        "        all_files_names.append(os.path.join(BASEPATH, class_id, file_name))\n",
        "        all_files_classes.append(it_class)\n",
        "all_files_classes = np.array(all_files_classes)"
      ],
      "metadata": {
        "id": "lWIRXetnMwED"
      },
      "execution_count": null,
      "outputs": []
    },
    {
      "cell_type": "code",
      "source": [
        "# Split training and test sets\n",
        "from sklearn.model_selection import train_test_split\n",
        "names_train, names_test, y_train, y_test = train_test_split(all_files_names, all_files_classes, test_size=0.2)"
      ],
      "metadata": {
        "id": "uhXK4BuNMxhg"
      },
      "execution_count": null,
      "outputs": []
    },
    {
      "cell_type": "code",
      "source": [
        "from sklearn.preprocessing import normalize\n",
        "file_path = names_train[0]\n",
        "img = cv2.imread(file_path)\n",
        "gray = cv2.cvtColor(img, cv2.COLOR_BGR2GRAY)\n",
        "sift = cv2.SIFT_create()\n",
        "_, desc = sift.detectAndCompute(gray, None)\n",
        "desc = np.clip(normalize(desc), 0.0, 0.2)\n",
        "desc = normalize(desc)"
      ],
      "metadata": {
        "id": "yQ3YgwR-Mzck"
      },
      "execution_count": null,
      "outputs": []
    },
    {
      "cell_type": "code",
      "source": [
        "# Define a function that loads an image and computes its SIFT descriptors\n",
        "from sklearn.preprocessing import normalize\n",
        "\n",
        "def compute_SIFT(file_path):\n",
        "    img = cv2.imread(file_path)\n",
        "    gray = cv2.cvtColor(img, cv2.COLOR_BGR2GRAY)\n",
        "    sift = cv2.SIFT_create()\n",
        "    _, desc = sift.detectAndCompute(gray, None)\n",
        "    desc = np.clip(normalize(desc), 0.0, 0.2)\n",
        "    return(normalize(desc))"
      ],
      "metadata": {
        "id": "mGtCroYrNFkU"
      },
      "execution_count": null,
      "outputs": []
    },
    {
      "cell_type": "code",
      "source": [
        "# Compute up to 20,000 SIFT descriptors from training images to use them for dictionary training\n",
        "from random import sample\n",
        "\n",
        "train_SIFTS = []\n",
        "for file_name in sample(names_train, len(names_train)): # Use random subset of training samples\n",
        "    train_SIFTS.extend(compute_SIFT(file_name))\n",
        "    if len(train_SIFTS) >= 20_000:\n",
        "        break\n",
        "\n",
        "train_SIFTS = np.array(train_SIFTS)"
      ],
      "metadata": {
        "id": "T4oaUNVyNGdu"
      },
      "execution_count": null,
      "outputs": []
    },
    {
      "cell_type": "code",
      "source": [
        "# Train a visual dictionary\n",
        "from sklearn.cluster import KMeans\n",
        "\n",
        "num_clusters = 300\n",
        "kmeans = KMeans(n_clusters=num_clusters, n_init=10).fit(train_SIFTS)\n",
        "print(f\"Inertia: {kmeans.inertia_}\")\n",
        "\n",
        "# Show frequency distribution of words\n",
        "plt.figure(figsize=(16, 3))\n",
        "plt.hist(kmeans.labels_, num_clusters)\n",
        "plt.xlim(0, num_clusters)\n",
        "plt.show()"
      ],
      "metadata": {
        "colab": {
          "base_uri": "https://localhost:8080/",
          "height": 267
        },
        "id": "5RyS41fJNISR",
        "outputId": "bbe7b7bb-0544-4278-bf71-cb45f5db3554"
      },
      "execution_count": null,
      "outputs": [
        {
          "output_type": "stream",
          "name": "stdout",
          "text": [
            "Inertia: 5089.859375\n"
          ]
        },
        {
          "output_type": "display_data",
          "data": {
            "text/plain": [
              "<Figure size 1600x300 with 1 Axes>"
            ],
            "image/png": "[encoded data removed]"
          },
          "metadata": {}
        }
      ]
    },
    {
      "cell_type": "code",
      "source": [
        "# Read an image, estimate its SIFT descriptors and BoW representation\n",
        "def get_visual_words(file_path):\n",
        "    SIFTS = compute_SIFT(file_path)\n",
        "    v_words = kmeans.predict(SIFTS)\n",
        "    return(v_words)"
      ],
      "metadata": {
        "id": "y3CYtJG-NNTq"
      },
      "execution_count": null,
      "outputs": []
    },
    {
      "cell_type": "code",
      "source": [
        "# Compute the BOW representation for all the training set\n",
        "BOW_train = np.zeros((len(names_train), num_clusters))\n",
        "bins = np.arange(0, num_clusters+1)\n",
        "for it_file, file_name in enumerate(names_train):\n",
        "    v_words = get_visual_words(file_name)\n",
        "    BOW_train[it_file], _ = np.histogram(v_words, bins, density=True)"
      ],
      "metadata": {
        "id": "tmtPAKnoNOBE"
      },
      "execution_count": null,
      "outputs": []
    },
    {
      "cell_type": "code",
      "source": [
        "# Show all BOW representations sum up to one\n",
        "plt.figure(figsize=(12, 3))\n",
        "plt.plot(BOW_train.sum(axis=1))\n",
        "plt.show()\n",
        "\n",
        "print(BOW_train.shape)\n",
        "print(y_train.shape)"
      ],
      "metadata": {
        "colab": {
          "base_uri": "https://localhost:8080/",
          "height": 326
        },
        "id": "Vlfjglx6NPkR",
        "outputId": "1c4f41e5-8524-4acd-c9c5-637789fe935b"
      },
      "execution_count": null,
      "outputs": [
        {
          "output_type": "display_data",
          "data": {
            "text/plain": [
              "<Figure size 1200x300 with 1 Axes>"
            ],
            "image/png": "[encoded data removed]"
          },
          "metadata": {}
        },
        {
          "output_type": "stream",
          "name": "stdout",
          "text": [
            "(160, 300)\n",
            "(160,)\n"
          ]
        }
      ]
    },
    {
      "cell_type": "code",
      "source": [
        "# Compute the BOW representation for all the test set\n",
        "BOW_test = np.zeros((len(names_test), num_clusters))\n",
        "bins = np.arange(0, num_clusters+1)\n",
        "for it_file, file_name in enumerate(names_test):\n",
        "    v_words = get_visual_words(file_name)\n",
        "    BOW_test[it_file], _ = np.histogram(v_words, bins, density=True)"
      ],
      "metadata": {
        "id": "lkDGZTitRvjX"
      },
      "execution_count": null,
      "outputs": []
    },
    {
      "cell_type": "code",
      "source": [
        "# Show all BOW representations sum up to one\n",
        "plt.figure(figsize=(12, 3))\n",
        "plt.plot(BOW_test.sum(axis=1))\n",
        "plt.show()\n",
        "\n",
        "print(BOW_test.shape)\n",
        "print(y_test.shape)"
      ],
      "metadata": {
        "colab": {
          "base_uri": "https://localhost:8080/",
          "height": 326
        },
        "id": "NIHuPiolR5b1",
        "outputId": "fb5bb766-cb33-4488-9cca-1d12d75bf74b"
      },
      "execution_count": null,
      "outputs": [
        {
          "output_type": "display_data",
          "data": {
            "text/plain": [
              "<Figure size 1200x300 with 1 Axes>"
            ],
            "image/png": "[encoded data removed]"
          },
          "metadata": {}
        },
        {
          "output_type": "stream",
          "name": "stdout",
          "text": [
            "(41, 300)\n",
            "(41,)\n"
          ]
        }
      ]
    },
    {
      "cell_type": "code",
      "source": [
        "# Imports for training a linear SVC with grid search\n",
        "from sklearn.svm import SVC\n",
        "from sklearn.ensemble import GradientBoostingClassifier\n",
        "from sklearn.model_selection import GridSearchCV"
      ],
      "metadata": {
        "id": "2VD7E1kZSGk-"
      },
      "execution_count": null,
      "outputs": []
    },
    {
      "cell_type": "code",
      "source": [
        "# Define grid search parameters\n",
        "hyperparams = {'kernel': ['linear', 'poly', 'rbf'],\n",
        "               'C': [0.01, 0.1, 1.0, 10, 100],\n",
        "               'degree': [1, 2, 3, 4],\n",
        "               'gamma': ['auto', 'scale'],\n",
        "               'coef0': [1/4, 1/2, 1, 2]}\n",
        "hyperparams"
      ],
      "metadata": {
        "colab": {
          "base_uri": "https://localhost:8080/"
        },
        "id": "yPjUrgV6SJD6",
        "outputId": "a4428df1-445f-47a1-c457-9a64645f7580"
      },
      "execution_count": null,
      "outputs": [
        {
          "output_type": "execute_result",
          "data": {
            "text/plain": [
              "{'kernel': ['linear', 'poly', 'rbf'],\n",
              " 'C': [0.01, 0.1, 1.0, 10, 100],\n",
              " 'degree': [1, 2, 3, 4],\n",
              " 'gamma': ['auto', 'scale'],\n",
              " 'coef0': [0.25, 0.5, 1, 2]}"
            ]
          },
          "metadata": {},
          "execution_count": 224
        }
      ]
    },
    {
      "cell_type": "code",
      "source": [
        "# Create and train the classifiers with grid search\n",
        "gs = GridSearchCV(SVC(), hyperparams, verbose=True, n_jobs=-1)\n",
        "gs.fit(BOW_train, y_train)"
      ],
      "metadata": {
        "colab": {
          "base_uri": "https://localhost:8080/",
          "height": 134
        },
        "id": "2mn7slUSSLiG",
        "outputId": "e5af67db-8525-45ef-c4da-9a1ab5442c0a"
      },
      "execution_count": null,
      "outputs": [
        {
          "output_type": "stream",
          "name": "stdout",
          "text": [
            "Fitting 5 folds for each of 480 candidates, totalling 2400 fits\n"
          ]
        },
        {
          "output_type": "execute_result",
          "data": {
            "text/plain": [
              "GridSearchCV(estimator=SVC(), n_jobs=-1,\n",
              "             param_grid={'C': [0.01, 0.1, 1.0, 10, 100],\n",
              "                         'coef0': [0.25, 0.5, 1, 2], 'degree': [1, 2, 3, 4],\n",
              "                         'gamma': ['auto', 'scale'],\n",
              "                         'kernel': ['linear', 'poly', 'rbf']},\n",
              "             verbose=True)"
            ],
            "text/html": [
              "<style>#sk-container-id-1 {color: black;background-color: white;}#sk-container-id-1 pre{padding: 0;}#sk-container-id-1 div.sk-toggleable {background-color: white;}#sk-container-id-1 label.sk-toggleable__label {cursor: pointer;display: block;width: 100%;margin-bottom: 0;padding: 0.3em;box-sizing: border-box;text-align: center;}#sk-container-id-1 label.sk-toggleable__label-arrow:before {content: \"▸\";float: left;margin-right: 0.25em;color: #696969;}#sk-container-id-1 label.sk-toggleable__label-arrow:hover:before {color: black;}#sk-container-id-1 div.sk-estimator:hover label.sk-toggleable__label-arrow:before {color: black;}#sk-container-id-1 div.sk-toggleable__content {max-height: 0;max-width: 0;overflow: hidden;text-align: left;background-color: #f0f8ff;}#sk-container-id-1 div.sk-toggleable__content pre {margin: 0.2em;color: black;border-radius: 0.25em;background-color: #f0f8ff;}#sk-container-id-1 input.sk-toggleable__control:checked~div.sk-toggleable__content {max-height: 200px;max-width: 100%;overflow: auto;}#sk-container-id-1 input.sk-toggleable__control:checked~label.sk-toggleable__label-arrow:before {content: \"▾\";}#sk-container-id-1 div.sk-estimator input.sk-toggleable__control:checked~label.sk-toggleable__label {background-color: #d4ebff;}#sk-container-id-1 div.sk-label input.sk-toggleable__control:checked~label.sk-toggleable__label {background-color: #d4ebff;}#sk-container-id-1 input.sk-hidden--visually {border: 0;clip: rect(1px 1px 1px 1px);clip: rect(1px, 1px, 1px, 1px);height: 1px;margin: -1px;overflow: hidden;padding: 0;position: absolute;width: 1px;}#sk-container-id-1 div.sk-estimator {font-family: monospace;background-color: #f0f8ff;border: 1px dotted black;border-radius: 0.25em;box-sizing: border-box;margin-bottom: 0.5em;}#sk-container-id-1 div.sk-estimator:hover {background-color: #d4ebff;}#sk-container-id-1 div.sk-parallel-item::after {content: \"\";width: 100%;border-bottom: 1px solid gray;flex-grow: 1;}#sk-container-id-1 div.sk-label:hover label.sk-toggleable__label {background-color: #d4ebff;}#sk-container-id-1 div.sk-serial::before {content: \"\";position: absolute;border-left: 1px solid gray;box-sizing: border-box;top: 0;bottom: 0;left: 50%;z-index: 0;}#sk-container-id-1 div.sk-serial {display: flex;flex-direction: column;align-items: center;background-color: white;padding-right: 0.2em;padding-left: 0.2em;position: relative;}#sk-container-id-1 div.sk-item {position: relative;z-index: 1;}#sk-container-id-1 div.sk-parallel {display: flex;align-items: stretch;justify-content: center;background-color: white;position: relative;}#sk-container-id-1 div.sk-item::before, #sk-container-id-1 div.sk-parallel-item::before {content: \"\";position: absolute;border-left: 1px solid gray;box-sizing: border-box;top: 0;bottom: 0;left: 50%;z-index: -1;}#sk-container-id-1 div.sk-parallel-item {display: flex;flex-direction: column;z-index: 1;position: relative;background-color: white;}#sk-container-id-1 div.sk-parallel-item:first-child::after {align-self: flex-end;width: 50%;}#sk-container-id-1 div.sk-parallel-item:last-child::after {align-self: flex-start;width: 50%;}#sk-container-id-1 div.sk-parallel-item:only-child::after {width: 0;}#sk-container-id-1 div.sk-dashed-wrapped {border: 1px dashed gray;margin: 0 0.4em 0.5em 0.4em;box-sizing: border-box;padding-bottom: 0.4em;background-color: white;}#sk-container-id-1 div.sk-label label {font-family: monospace;font-weight: bold;display: inline-block;line-height: 1.2em;}#sk-container-id-1 div.sk-label-container {text-align: center;}#sk-container-id-1 div.sk-container {/* jupyter's `normalize.less` sets `[hidden] { display: none; }` but bootstrap.min.css set `[hidden] { display: none !important; }` so we also need the `!important` here to be able to override the default hidden behavior on the sphinx rendered scikit-learn.org. See: https://github.com/scikit-learn/scikit-learn/issues/21755 */display: inline-block !important;position: relative;}#sk-container-id-1 div.sk-text-repr-fallback {display: none;}</style><div id=\"sk-container-id-1\" class=\"sk-top-container\"><div class=\"sk-text-repr-fallback\"><pre>GridSearchCV(estimator=SVC(), n_jobs=-1,\n",
              "             param_grid={&#x27;C&#x27;: [0.01, 0.1, 1.0, 10, 100],\n",
              "                         &#x27;coef0&#x27;: [0.25, 0.5, 1, 2], &#x27;degree&#x27;: [1, 2, 3, 4],\n",
              "                         &#x27;gamma&#x27;: [&#x27;auto&#x27;, &#x27;scale&#x27;],\n",
              "                         &#x27;kernel&#x27;: [&#x27;linear&#x27;, &#x27;poly&#x27;, &#x27;rbf&#x27;]},\n",
              "             verbose=True)</pre><b>In a Jupyter environment, please rerun this cell to show the HTML representation or trust the notebook. <br />On GitHub, the HTML representation is unable to render, please try loading this page with nbviewer.org.</b></div><div class=\"sk-container\" hidden><div class=\"sk-item sk-dashed-wrapped\"><div class=\"sk-label-container\"><div class=\"sk-label sk-toggleable\"><input class=\"sk-toggleable__control sk-hidden--visually\" id=\"sk-estimator-id-1\" type=\"checkbox\" ><label for=\"sk-estimator-id-1\" class=\"sk-toggleable__label sk-toggleable__label-arrow\">GridSearchCV</label><div class=\"sk-toggleable__content\"><pre>GridSearchCV(estimator=SVC(), n_jobs=-1,\n",
              "             param_grid={&#x27;C&#x27;: [0.01, 0.1, 1.0, 10, 100],\n",
              "                         &#x27;coef0&#x27;: [0.25, 0.5, 1, 2], &#x27;degree&#x27;: [1, 2, 3, 4],\n",
              "                         &#x27;gamma&#x27;: [&#x27;auto&#x27;, &#x27;scale&#x27;],\n",
              "                         &#x27;kernel&#x27;: [&#x27;linear&#x27;, &#x27;poly&#x27;, &#x27;rbf&#x27;]},\n",
              "             verbose=True)</pre></div></div></div><div class=\"sk-parallel\"><div class=\"sk-parallel-item\"><div class=\"sk-item\"><div class=\"sk-label-container\"><div class=\"sk-label sk-toggleable\"><input class=\"sk-toggleable__control sk-hidden--visually\" id=\"sk-estimator-id-2\" type=\"checkbox\" ><label for=\"sk-estimator-id-2\" class=\"sk-toggleable__label sk-toggleable__label-arrow\">estimator: SVC</label><div class=\"sk-toggleable__content\"><pre>SVC()</pre></div></div></div><div class=\"sk-serial\"><div class=\"sk-item\"><div class=\"sk-estimator sk-toggleable\"><input class=\"sk-toggleable__control sk-hidden--visually\" id=\"sk-estimator-id-3\" type=\"checkbox\" ><label for=\"sk-estimator-id-3\" class=\"sk-toggleable__label sk-toggleable__label-arrow\">SVC</label><div class=\"sk-toggleable__content\"><pre>SVC()</pre></div></div></div></div></div></div></div></div></div></div>"
            ]
          },
          "metadata": {},
          "execution_count": 225
        }
      ]
    },
    {
      "cell_type": "code",
      "source": [
        "# Print info about best score and best hyperparameters\n",
        "print(f\"Best score: {gs.best_score_:.3f}\")\n",
        "print(f\"Best params: {gs.best_params_}\")"
      ],
      "metadata": {
        "colab": {
          "base_uri": "https://localhost:8080/"
        },
        "id": "xdGRIr94SMaD",
        "outputId": "662060a0-0cc3-48c5-95b8-81e34cb32de1"
      },
      "execution_count": null,
      "outputs": [
        {
          "output_type": "stream",
          "name": "stdout",
          "text": [
            "Best score: 0.719\n",
            "Best params: {'C': 1.0, 'coef0': 1, 'degree': 2, 'gamma': 'scale', 'kernel': 'poly'}\n"
          ]
        }
      ]
    },
    {
      "cell_type": "code",
      "source": [
        "# Evaluate on the test set\n",
        "best_svm = gs.best_estimator_\n",
        "\n",
        "print(f\"Train mean accuracy: {best_svm.score(BOW_train, y_train):.3f}\")\n",
        "print(f\"Test mean accuracy: {best_svm.score(BOW_test, y_test):.3f}\")"
      ],
      "metadata": {
        "colab": {
          "base_uri": "https://localhost:8080/"
        },
        "id": "1EaUl3XUSX_U",
        "outputId": "0b15f845-141f-4400-bdfc-e891755b9b83"
      },
      "execution_count": null,
      "outputs": [
        {
          "output_type": "stream",
          "name": "stdout",
          "text": [
            "Train mean accuracy: 0.994\n",
            "Test mean accuracy: 0.805\n"
          ]
        }
      ]
    },
    {
      "cell_type": "code",
      "source": [
        "#               Train Acc       Val Acc         Test Acc.       Tiempo de entrenamiento\n",
        "# GIST           99.5%\n",
        "# HoG            99.5%\n",
        "# SIFT+          99.4%\n",
        "\n",
        "# hay 160 bolsa de palabras para el modelo BoW"
      ],
      "metadata": {
        "id": "trKY26WS9ahw"
      },
      "execution_count": null,
      "outputs": []
    },
    {
      "cell_type": "code",
      "source": [
        "# Confusion matrix\n",
        "CM = confusion_matrix(Y, y_hat)\n",
        "print(CM.shape)\n",
        "\n",
        "plt.figure(figsize=(6, 6))\n",
        "plt.imshow(CM, cmap='jet')\n",
        "plt.colorbar()\n",
        "plt.show()"
      ],
      "metadata": {
        "colab": {
          "base_uri": "https://localhost:8080/",
          "height": 530
        },
        "id": "pP_LwQupDYQr",
        "outputId": "2dc4155a-ab60-476e-81eb-05ab7abfc6e0"
      },
      "execution_count": 55,
      "outputs": [
        {
          "output_type": "stream",
          "name": "stdout",
          "text": [
            "(5, 5)\n"
          ]
        },
        {
          "output_type": "display_data",
          "data": {
            "text/plain": [
              "<Figure size 600x600 with 2 Axes>"
            ],
            "image/png": "[encoded data removed]"
          },
          "metadata": {}
        }
      ]
    }
  ],
  "metadata": {
    "colab": {
      "provenance": []
    },
    "kernelspec": {
      "display_name": "Python 3 (ipykernel)",
      "language": "python",
      "name": "python3"
    },
    "language_info": {
      "codemirror_mode": {
        "name": "ipython",
        "version": 3
      },
      "file_extension": ".py",
      "mimetype": "text/x-python",
      "name": "python",
      "nbconvert_exporter": "python",
      "pygments_lexer": "ipython3",
      "version": "3.11.3"
    }
  },
  "nbformat": 4,
  "nbformat_minor": 0
}